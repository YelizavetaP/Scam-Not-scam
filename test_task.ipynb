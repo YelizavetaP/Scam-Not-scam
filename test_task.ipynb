{
 "cells": [
  {
   "cell_type": "code",
   "execution_count": 9,
   "metadata": {},
   "outputs": [],
   "source": [
    "import pandas as pd\n",
    "from sklearn.model_selection import train_test_split\n",
    "from sklearn.feature_extraction.text import TfidfVectorizer\n",
    "from sklearn.linear_model import LogisticRegression\n",
    "from sklearn.metrics import accuracy_score, roc_auc_score, classification_report\n",
    "\n",
    "from sklearn.naive_bayes import MultinomialNB\n",
    "\n"
   ]
  },
  {
   "cell_type": "code",
   "execution_count": 6,
   "metadata": {},
   "outputs": [
    {
     "name": "stdout",
     "output_type": "stream",
     "text": [
      "<class 'pandas.core.frame.DataFrame'>\n",
      "RangeIndex: 200 entries, 0 to 199\n",
      "Data columns (total 3 columns):\n",
      " #   Column           Non-Null Count  Dtype \n",
      "---  ------           --------------  ----- \n",
      " 0   about_me         200 non-null    object\n",
      " 1   label            200 non-null    int64 \n",
      " 2   contact details  200 non-null    int64 \n",
      "dtypes: int64(2), object(1)\n",
      "memory usage: 4.8+ KB\n"
     ]
    }
   ],
   "source": [
    "file_path = 'Scam _ Not scam 200 - Sheet1.csv'\n",
    "data = pd.read_csv(file_path, sep=',')\n",
    "\n",
    "data.info()"
   ]
  },
  {
   "cell_type": "code",
   "execution_count": 7,
   "metadata": {},
   "outputs": [
    {
     "data": {
      "text/html": [
       "<div>\n",
       "<style scoped>\n",
       "    .dataframe tbody tr th:only-of-type {\n",
       "        vertical-align: middle;\n",
       "    }\n",
       "\n",
       "    .dataframe tbody tr th {\n",
       "        vertical-align: top;\n",
       "    }\n",
       "\n",
       "    .dataframe thead th {\n",
       "        text-align: right;\n",
       "    }\n",
       "</style>\n",
       "<table border=\"1\" class=\"dataframe\">\n",
       "  <thead>\n",
       "    <tr style=\"text-align: right;\">\n",
       "      <th></th>\n",
       "      <th>about_me</th>\n",
       "      <th>label</th>\n",
       "      <th>contact details</th>\n",
       "    </tr>\n",
       "  </thead>\n",
       "  <tbody>\n",
       "    <tr>\n",
       "      <th>0</th>\n",
       "      <td>A︇︆︈l︇︆︈l︇︆︈ ︇︆︈m︇︆︈y︇︆︈ ︇︆︈s︇︆︈e︇︆︈x︇︆︈y︇︆︈ ︇...</td>\n",
       "      <td>1</td>\n",
       "      <td>1</td>\n",
       "    </tr>\n",
       "    <tr>\n",
       "      <th>1</th>\n",
       "      <td>solo busco que me traten como una princesa y m...</td>\n",
       "      <td>1</td>\n",
       "      <td>1</td>\n",
       "    </tr>\n",
       "    <tr>\n",
       "      <th>2</th>\n",
       "      <td>buenas tardes yo busco conocer personas yo qui...</td>\n",
       "      <td>1</td>\n",
       "      <td>0</td>\n",
       "    </tr>\n",
       "    <tr>\n",
       "      <th>3</th>\n",
       "      <td>Tex бO78OѲ4らч8</td>\n",
       "      <td>1</td>\n",
       "      <td>1</td>\n",
       "    </tr>\n",
       "    <tr>\n",
       "      <th>4</th>\n",
       "      <td>soy madre soltera tengo un hijo de 13 años, so...</td>\n",
       "      <td>1</td>\n",
       "      <td>0</td>\n",
       "    </tr>\n",
       "    <tr>\n",
       "      <th>5</th>\n",
       "      <td>Мне 16 если хочешь познакомиться пиши мне в Ин...</td>\n",
       "      <td>1</td>\n",
       "      <td>1</td>\n",
       "    </tr>\n",
       "    <tr>\n",
       "      <th>6</th>\n",
       "      <td>bin für ein Sextreffen zu haben, wenn du Inter...</td>\n",
       "      <td>1</td>\n",
       "      <td>0</td>\n",
       "    </tr>\n",
       "  </tbody>\n",
       "</table>\n",
       "</div>"
      ],
      "text/plain": [
       "                                            about_me  label  contact details\n",
       "0  A︇︆︈l︇︆︈l︇︆︈ ︇︆︈m︇︆︈y︇︆︈ ︇︆︈s︇︆︈e︇︆︈x︇︆︈y︇︆︈ ︇...      1                1\n",
       "1  solo busco que me traten como una princesa y m...      1                1\n",
       "2  buenas tardes yo busco conocer personas yo qui...      1                0\n",
       "3                                     Tex бO78OѲ4らч8      1                1\n",
       "4  soy madre soltera tengo un hijo de 13 años, so...      1                0\n",
       "5  Мне 16 если хочешь познакомиться пиши мне в Ин...      1                1\n",
       "6  bin für ein Sextreffen zu haben, wenn du Inter...      1                0"
      ]
     },
     "execution_count": 7,
     "metadata": {},
     "output_type": "execute_result"
    }
   ],
   "source": [
    "data.head(7)"
   ]
  },
  {
   "cell_type": "code",
   "execution_count": 23,
   "metadata": {},
   "outputs": [
    {
     "data": {
      "text/html": [
       "<div>\n",
       "<style scoped>\n",
       "    .dataframe tbody tr th:only-of-type {\n",
       "        vertical-align: middle;\n",
       "    }\n",
       "\n",
       "    .dataframe tbody tr th {\n",
       "        vertical-align: top;\n",
       "    }\n",
       "\n",
       "    .dataframe thead th {\n",
       "        text-align: right;\n",
       "    }\n",
       "</style>\n",
       "<table border=\"1\" class=\"dataframe\">\n",
       "  <thead>\n",
       "    <tr style=\"text-align: right;\">\n",
       "      <th></th>\n",
       "      <th>about_me</th>\n",
       "      <th>label</th>\n",
       "      <th>contact details</th>\n",
       "      <th>about_me_cleaned</th>\n",
       "    </tr>\n",
       "  </thead>\n",
       "  <tbody>\n",
       "    <tr>\n",
       "      <th>0</th>\n",
       "      <td>A︇︆︈l︇︆︈l︇︆︈ ︇︆︈m︇︆︈y︇︆︈ ︇︆︈s︇︆︈e︇︆︈x︇︆︈y︇︆︈ ︇...</td>\n",
       "      <td>1</td>\n",
       "      <td>1</td>\n",
       "      <td>all my sexy photos and videos</td>\n",
       "    </tr>\n",
       "    <tr>\n",
       "      <th>1</th>\n",
       "      <td>solo busco que me traten como una princesa y m...</td>\n",
       "      <td>1</td>\n",
       "      <td>1</td>\n",
       "      <td>solo busco que me traten como una princesa y m...</td>\n",
       "    </tr>\n",
       "    <tr>\n",
       "      <th>2</th>\n",
       "      <td>buenas tardes yo busco conocer personas yo qui...</td>\n",
       "      <td>1</td>\n",
       "      <td>0</td>\n",
       "      <td>buenas tardes yo busco conocer personas yo qui...</td>\n",
       "    </tr>\n",
       "    <tr>\n",
       "      <th>3</th>\n",
       "      <td>Tex бO78OѲ4らч8</td>\n",
       "      <td>1</td>\n",
       "      <td>1</td>\n",
       "      <td>tex бo78oѳ4らч8</td>\n",
       "    </tr>\n",
       "    <tr>\n",
       "      <th>4</th>\n",
       "      <td>soy madre soltera tengo un hijo de 13 años, so...</td>\n",
       "      <td>1</td>\n",
       "      <td>0</td>\n",
       "      <td>soy madre soltera tengo un hijo de 13 años soy...</td>\n",
       "    </tr>\n",
       "    <tr>\n",
       "      <th>5</th>\n",
       "      <td>Мне 16 если хочешь познакомиться пиши мне в Ин...</td>\n",
       "      <td>1</td>\n",
       "      <td>1</td>\n",
       "      <td>мне 16 если хочешь познакомиться пиши мне в ин...</td>\n",
       "    </tr>\n",
       "    <tr>\n",
       "      <th>6</th>\n",
       "      <td>bin für ein Sextreffen zu haben, wenn du Inter...</td>\n",
       "      <td>1</td>\n",
       "      <td>0</td>\n",
       "      <td>bin für ein sextreffen zu haben wenn du intere...</td>\n",
       "    </tr>\n",
       "  </tbody>\n",
       "</table>\n",
       "</div>"
      ],
      "text/plain": [
       "                                            about_me  label  contact details  \\\n",
       "0  A︇︆︈l︇︆︈l︇︆︈ ︇︆︈m︇︆︈y︇︆︈ ︇︆︈s︇︆︈e︇︆︈x︇︆︈y︇︆︈ ︇...      1                1   \n",
       "1  solo busco que me traten como una princesa y m...      1                1   \n",
       "2  buenas tardes yo busco conocer personas yo qui...      1                0   \n",
       "3                                     Tex бO78OѲ4らч8      1                1   \n",
       "4  soy madre soltera tengo un hijo de 13 años, so...      1                0   \n",
       "5  Мне 16 если хочешь познакомиться пиши мне в Ин...      1                1   \n",
       "6  bin für ein Sextreffen zu haben, wenn du Inter...      1                0   \n",
       "\n",
       "                                    about_me_cleaned  \n",
       "0                     all my sexy photos and videos   \n",
       "1  solo busco que me traten como una princesa y m...  \n",
       "2  buenas tardes yo busco conocer personas yo qui...  \n",
       "3                                     tex бo78oѳ4らч8  \n",
       "4  soy madre soltera tengo un hijo de 13 años soy...  \n",
       "5  мне 16 если хочешь познакомиться пиши мне в ин...  \n",
       "6  bin für ein sextreffen zu haben wenn du intere...  "
      ]
     },
     "execution_count": 23,
     "metadata": {},
     "output_type": "execute_result"
    }
   ],
   "source": [
    "# data['about_me_cleaned'] = data['about_me'].str.replace(r'[^a-zA-Zа-яА-Я\\s]', '', regex=True).str.lower()\n",
    "data['about_me_cleaned'] = data['about_me'].str.replace(r'[^\\w\\s]', '', regex=True).str.lower()\n",
    "data.head(7)"
   ]
  },
  {
   "cell_type": "code",
   "execution_count": 31,
   "metadata": {},
   "outputs": [],
   "source": [
    "# text to nums - TF-IDF\n",
    "vectorizer = TfidfVectorizer(max_features=100)\n",
    "X_text = vectorizer.fit_transform(data['about_me_cleaned']).toarray()\n",
    "\n",
    "X = pd.DataFrame(X_text)\n",
    "X.columns = X.columns.astype(str)\n",
    "X['contact_details'] = data['contact details'].values\n",
    "y = data['label']\n",
    "\n",
    "X_train, X_temp, y_train, y_temp = train_test_split(X, y, test_size=0.2, random_state=42)\n",
    "X_val, X_test, y_val, y_test = train_test_split(X_temp, y_temp, test_size=0.5, random_state=42)"
   ]
  },
  {
   "cell_type": "code",
   "execution_count": 32,
   "metadata": {},
   "outputs": [
    {
     "name": "stdout",
     "output_type": "stream",
     "text": [
      "accuracy_val: 0.75\n",
      "\n",
      "roc_auc_val: 0.7777777777777778\n",
      "\n",
      "classification_report_val:\n",
      "\n",
      "              precision    recall  f1-score   support\n",
      "\n",
      "           0       0.75      0.67      0.71         9\n",
      "           1       0.75      0.82      0.78        11\n",
      "\n",
      "    accuracy                           0.75        20\n",
      "   macro avg       0.75      0.74      0.74        20\n",
      "weighted avg       0.75      0.75      0.75        20\n",
      "\n"
     ]
    }
   ],
   "source": [
    "# Naive Bayes\n",
    "nb_model = MultinomialNB()\n",
    "nb_model.fit(X_train, y_train)\n",
    "\n",
    "y_val_pred = nb_model.predict(X_val)\n",
    "y_val_prob = nb_model.predict_proba(X_val)[:, 1]\n",
    "\n",
    "accuracy_val = accuracy_score(y_val, y_val_pred)\n",
    "roc_auc_val = roc_auc_score(y_val, y_val_prob)\n",
    "classification_report_val = classification_report(y_val, y_val_pred)\n",
    "\n",
    "print(f\"accuracy_val: {accuracy_val}\\n\\nroc_auc_val: {roc_auc_val}\\n\\nclassification_report_val:\\n\\n{classification_report_val}\")"
   ]
  },
  {
   "cell_type": "code",
   "execution_count": 33,
   "metadata": {},
   "outputs": [
    {
     "name": "stdout",
     "output_type": "stream",
     "text": [
      "accuracy_val: 0.75\n",
      "\n",
      "roc_auc_val: 0.7777777777777778\n",
      "\n",
      "classification_report_val:\n",
      "\n",
      "              precision    recall  f1-score   support\n",
      "\n",
      "           0       0.70      0.78      0.74         9\n",
      "           1       0.80      0.73      0.76        11\n",
      "\n",
      "    accuracy                           0.75        20\n",
      "   macro avg       0.75      0.75      0.75        20\n",
      "weighted avg       0.76      0.75      0.75        20\n",
      "\n"
     ]
    }
   ],
   "source": [
    "log_reg = LogisticRegression(max_iter=500, solver='liblinear')\n",
    "log_reg.fit(X_train, y_train)\n",
    "\n",
    "y_val_pred = log_reg.predict(X_val)\n",
    "y_val_prob = log_reg.predict_proba(X_val)[:, 1]\n",
    "\n",
    "accuracy_val = accuracy_score(y_val, y_val_pred)\n",
    "roc_auc_val = roc_auc_score(y_val, y_val_prob)\n",
    "classification_report_val = classification_report(y_val, y_val_pred)\n",
    "\n",
    "print(f\"accuracy_val: {accuracy_val}\\n\\nroc_auc_val: {roc_auc_val}\\n\\nclassification_report_val:\\n\\n{classification_report_val}\")"
   ]
  },
  {
   "cell_type": "code",
   "execution_count": null,
   "metadata": {},
   "outputs": [],
   "source": []
  }
 ],
 "metadata": {
  "kernelspec": {
   "display_name": "Python 3",
   "language": "python",
   "name": "python3"
  },
  "language_info": {
   "codemirror_mode": {
    "name": "ipython",
    "version": 3
   },
   "file_extension": ".py",
   "mimetype": "text/x-python",
   "name": "python",
   "nbconvert_exporter": "python",
   "pygments_lexer": "ipython3",
   "version": "3.10.4"
  }
 },
 "nbformat": 4,
 "nbformat_minor": 2
}
