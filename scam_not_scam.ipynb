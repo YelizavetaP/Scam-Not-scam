{
 "cells": [
  {
   "cell_type": "markdown",
   "metadata": {},
   "source": [
    "### **Класифікація тексту для виявлення шахрайства**\n",
    "\n",
    "**Завдання:**\n",
    "\n",
    "Запропонувати та реалізувати Proof of Concept (PoC) рішення, яке буде класифікувати текстові описи користувачів із поля **\"Про себе\"** та виявляти потенційний шахрайський, неприйнятний контент або контактну інформацію.\n",
    "\n",
    "1. Провести дослідження датасету: переглянути приклади текстів, щоб зрозуміти, як виглядає неприйнятний контент або що може вважатися контактною інформацією.\n",
    "2. Запропонувати рішення: підібрати метод, який буде ефективним для класифікації тексту. Це може бути проста модель на основі обробки тексту або щось складніше, як нейронна мережа.\n",
    "3. Реалізувати модель: вибрати та налаштувати модель для класифікації тексту. \n",
    "4. Оцінка результату: протестувати модель на наданих даних і перевірити, наскільки добре вона розрізняє нормальні тексти та порушення. \n",
    "\n",
    "**Деталі:**\n",
    "\n",
    "Датасет для цього завдання доступний за [посиланням.](https://docs.google.com/spreadsheets/d/1FKPBf_-D2UbB6zij8snVqqg02WKhMb8lZFhiOj1L6tU/edit?usp=sharing) Вам надано датасет, який містить текстові описи з поля \"Про себе\" та мітки:\n",
    "\n",
    "- **label**: позначає, чи є текст неприйнятним:\n",
    "    - 1 — неприйнятний контент.\n",
    "    - 0 — нормальний контент.\n",
    "- **contact_details**: додаткова колонка, яку можна використати для детектування полів, що містять контактну інформацію користувачів.\n",
    "\n",
    "Дана задача включає дві підзадачі:\n",
    "1. **Детектування контактної інформації** у полі \"Про себе\" (телефон, email, посилання).\n",
    "2. **Виявлення іншого неприйнятного контенту** (підозрілі тексти, нецензурна лексика тощо).\n",
    "\n",
    "Обидві задачі можна вирішити як окремими моделями, так і спільним рішенням, проте важливо забезпечити здатність чітко розрізняти ці два класи."
   ]
  },
  {
   "cell_type": "markdown",
   "metadata": {},
   "source": [
    "### Імпорти"
   ]
  },
  {
   "cell_type": "code",
   "execution_count": 87,
   "metadata": {},
   "outputs": [],
   "source": [
    "from sklearn.model_selection import train_test_split\n",
    "from sklearn.feature_extraction.text import TfidfVectorizer\n",
    "from sklearn.linear_model import LogisticRegression\n",
    "from sklearn.metrics import accuracy_score, roc_auc_score, classification_report\n",
    "\n",
    "from sklearn.naive_bayes import MultinomialNB"
   ]
  },
  {
   "cell_type": "markdown",
   "metadata": {},
   "source": [
    "### Завантаження даних\n",
    "\n",
    "Завантажимо датасет та переглянимо як виглядають записи"
   ]
  },
  {
   "cell_type": "code",
   "execution_count": 88,
   "metadata": {},
   "outputs": [],
   "source": [
    "import pandas as pd\n",
    "import numpy as np\n",
    "import matplotlib.pyplot as plt"
   ]
  },
  {
   "cell_type": "code",
   "execution_count": 89,
   "metadata": {},
   "outputs": [],
   "source": [
    "pd.set_option('display.max_colwidth', None)"
   ]
  },
  {
   "cell_type": "code",
   "execution_count": 90,
   "metadata": {},
   "outputs": [
    {
     "data": {
      "text/html": [
       "<div>\n",
       "<style scoped>\n",
       "    .dataframe tbody tr th:only-of-type {\n",
       "        vertical-align: middle;\n",
       "    }\n",
       "\n",
       "    .dataframe tbody tr th {\n",
       "        vertical-align: top;\n",
       "    }\n",
       "\n",
       "    .dataframe thead th {\n",
       "        text-align: right;\n",
       "    }\n",
       "</style>\n",
       "<table border=\"1\" class=\"dataframe\">\n",
       "  <thead>\n",
       "    <tr style=\"text-align: right;\">\n",
       "      <th></th>\n",
       "      <th>about_me</th>\n",
       "      <th>label</th>\n",
       "      <th>contact details</th>\n",
       "    </tr>\n",
       "  </thead>\n",
       "  <tbody>\n",
       "    <tr>\n",
       "      <th>0</th>\n",
       "      <td>A︇︆︈l︇︆︈l︇︆︈ ︇︆︈m︇︆︈y︇︆︈ ︇︆︈s︇︆︈e︇︆︈x︇︆︈y︇︆︈ ︇︆︈p︇︆︈h︇︆︈o︇︆︈t︇︆︈o︇︆︈s︇︆︈ ︇︆︈a︇︆︈n︇︆︈d︇︆︈ ︇︆︈v︇︆︈i︇︆︈d︇︆︈e︇︆︈o︇︆︈s︇︆︈ ︇︆︈</td>\n",
       "      <td>1</td>\n",
       "      <td>1</td>\n",
       "    </tr>\n",
       "    <tr>\n",
       "      <th>1</th>\n",
       "      <td>solo busco que me traten como una princesa y me vuelvan más caprichosa de lo que soy, busco un papi bueno que me cumpla los caprichos 💋.rn mi Instagram lun4aa.22</td>\n",
       "      <td>1</td>\n",
       "      <td>1</td>\n",
       "    </tr>\n",
       "    <tr>\n",
       "      <th>2</th>\n",
       "      <td>buenas tardes yo busco conocer personas yo quiero alguien que me entienda y queme allude en los económico porque soy una persona muy pobre pero tampoco soy interesada no me gusta pedirle a nadie y tampoco Nome gusta mentirle Ami pareja</td>\n",
       "      <td>1</td>\n",
       "      <td>0</td>\n",
       "    </tr>\n",
       "    <tr>\n",
       "      <th>3</th>\n",
       "      <td>Tex бO78OѲ4らч8</td>\n",
       "      <td>1</td>\n",
       "      <td>1</td>\n",
       "    </tr>\n",
       "    <tr>\n",
       "      <th>4</th>\n",
       "      <td>soy madre soltera tengo un hijo de 13 años, soy auxiliar de enfermería, hogareña, romántica, fiel, honesta, busco amistad sincera y transparente inicialmente me gustaría encontrar una persona que me ayude económicamente y si nos entendemos, me gustaría tener una relación seria</td>\n",
       "      <td>1</td>\n",
       "      <td>0</td>\n",
       "    </tr>\n",
       "  </tbody>\n",
       "</table>\n",
       "</div>"
      ],
      "text/plain": [
       "                                                                                                                                                                                                                                                                                about_me  \\\n",
       "0                                                                                                                                                               A︇︆︈l︇︆︈l︇︆︈ ︇︆︈m︇︆︈y︇︆︈ ︇︆︈s︇︆︈e︇︆︈x︇︆︈y︇︆︈ ︇︆︈p︇︆︈h︇︆︈o︇︆︈t︇︆︈o︇︆︈s︇︆︈ ︇︆︈a︇︆︈n︇︆︈d︇︆︈ ︇︆︈v︇︆︈i︇︆︈d︇︆︈e︇︆︈o︇︆︈s︇︆︈ ︇︆︈   \n",
       "1                                                                                                                      solo busco que me traten como una princesa y me vuelvan más caprichosa de lo que soy, busco un papi bueno que me cumpla los caprichos 💋.rn mi Instagram lun4aa.22   \n",
       "2                                            buenas tardes yo busco conocer personas yo quiero alguien que me entienda y queme allude en los económico porque soy una persona muy pobre pero tampoco soy interesada no me gusta pedirle a nadie y tampoco Nome gusta mentirle Ami pareja   \n",
       "3                                                                                                                                                                                                                                                                         Tex бO78OѲ4らч8   \n",
       "4  soy madre soltera tengo un hijo de 13 años, soy auxiliar de enfermería, hogareña, romántica, fiel, honesta, busco amistad sincera y transparente inicialmente me gustaría encontrar una persona que me ayude económicamente y si nos entendemos, me gustaría tener una relación seria   \n",
       "\n",
       "   label  contact details  \n",
       "0      1                1  \n",
       "1      1                1  \n",
       "2      1                0  \n",
       "3      1                1  \n",
       "4      1                0  "
      ]
     },
     "execution_count": 90,
     "metadata": {},
     "output_type": "execute_result"
    }
   ],
   "source": [
    "df = pd.read_csv('data\\Scam _ Not scam 200 - Sheet1.csv')\n",
    "df.head()"
   ]
  },
  {
   "cell_type": "markdown",
   "metadata": {},
   "source": [
    "### EDA"
   ]
  },
  {
   "cell_type": "code",
   "execution_count": 91,
   "metadata": {},
   "outputs": [
    {
     "name": "stdout",
     "output_type": "stream",
     "text": [
      "<class 'pandas.core.frame.DataFrame'>\n",
      "RangeIndex: 200 entries, 0 to 199\n",
      "Data columns (total 3 columns):\n",
      " #   Column           Non-Null Count  Dtype \n",
      "---  ------           --------------  ----- \n",
      " 0   about_me         200 non-null    object\n",
      " 1   label            200 non-null    int64 \n",
      " 2   contact details  200 non-null    int64 \n",
      "dtypes: int64(2), object(1)\n",
      "memory usage: 4.8+ KB\n"
     ]
    }
   ],
   "source": [
    "df.info()"
   ]
  },
  {
   "cell_type": "markdown",
   "metadata": {},
   "source": [
    "Подивимось на баланс даних"
   ]
  },
  {
   "cell_type": "code",
   "execution_count": 92,
   "metadata": {},
   "outputs": [
    {
     "data": {
      "text/plain": [
       "label\n",
       "0    104\n",
       "1     96\n",
       "Name: count, dtype: int64"
      ]
     },
     "execution_count": 92,
     "metadata": {},
     "output_type": "execute_result"
    }
   ],
   "source": [
    "df.label.value_counts()"
   ]
  },
  {
   "cell_type": "code",
   "execution_count": 93,
   "metadata": {},
   "outputs": [
    {
     "data": {
      "text/plain": [
       "contact details\n",
       "0    152\n",
       "1     48\n",
       "Name: count, dtype: int64"
      ]
     },
     "execution_count": 93,
     "metadata": {},
     "output_type": "execute_result"
    }
   ],
   "source": [
    "df['contact details'].value_counts()"
   ]
  },
  {
   "cell_type": "markdown",
   "metadata": {},
   "source": [
    "Датасет містить 3 колонки та 200 записів, і не має пропущених значень. Можна також побачити що ми маємо приблизо однакову кількість прийнятних та не прийнятних текстів, і значно більше записів що не містять контактної інформації ніж тих що містять\n",
    "\n",
    "Візуалізуємо розподіл текстів по довжині"
   ]
  },
  {
   "cell_type": "code",
   "execution_count": 94,
   "metadata": {},
   "outputs": [],
   "source": [
    "import matplotlib.pyplot as plt\n",
    "\n",
    "def get_lens(df):\n",
    "    return [len(text) for text in df]"
   ]
  },
  {
   "cell_type": "code",
   "execution_count": 95,
   "metadata": {},
   "outputs": [
    {
     "data": {
      "image/png": "[encoded data removed]",
      "text/plain": [
       "<Figure size 640x480 with 1 Axes>"
      ]
     },
     "metadata": {},
     "output_type": "display_data"
    }
   ],
   "source": [
    "lens = get_lens(df.about_me)\n",
    "plt.hist(lens);"
   ]
  },
  {
   "cell_type": "markdown",
   "metadata": {},
   "source": [
    "Подивимось тепер як розподілині дані за довжиною по різним класам"
   ]
  },
  {
   "cell_type": "code",
   "execution_count": 96,
   "metadata": {},
   "outputs": [
    {
     "data": {
      "image/png": "[encoded data removed]",
      "text/plain": [
       "<Figure size 1200x500 with 2 Axes>"
      ]
     },
     "metadata": {},
     "output_type": "display_data"
    }
   ],
   "source": [
    "# довжини текстів де label == 1 та label == 0\n",
    "lens_1 = get_lens(df[df.label == 1].about_me)\n",
    "lens_0 = get_lens(df[df.label == 0].about_me)\n",
    "\n",
    "fig, axes = plt.subplots(1, 2, figsize=(12, 5))\n",
    "\n",
    "axes[0].hist(lens_1, color='blue', alpha=0.7)\n",
    "axes[0].set_title('Label == 1(Scam)')\n",
    "\n",
    "axes[1].hist(lens_0, color='red', alpha=0.7)\n",
    "axes[1].set_title('Label == 0(Not scam)')\n",
    "\n",
    "plt.tight_layout()\n",
    "\n",
    "plt.show()"
   ]
  },
  {
   "cell_type": "markdown",
   "metadata": {},
   "source": [
    "Зробимо те саме для текстів для текстів які містять контактну інформацію"
   ]
  },
  {
   "cell_type": "code",
   "execution_count": 97,
   "metadata": {},
   "outputs": [
    {
     "data": {
      "image/png": "[encoded data removed]",
      "text/plain": [
       "<Figure size 1200x500 with 2 Axes>"
      ]
     },
     "metadata": {},
     "output_type": "display_data"
    }
   ],
   "source": [
    "# довжини текстів де contact details == 1 та contact details == 0\n",
    "lens_1 = get_lens(df[df['contact details'] == 1].about_me)\n",
    "lens_0 = get_lens(df[df['contact details'] == 0].about_me)\n",
    "\n",
    "fig, axes = plt.subplots(1, 2, figsize=(12, 5))\n",
    "\n",
    "axes[0].hist(lens_1, color='blue', alpha=0.7)\n",
    "axes[0].set_title('contact details == 1(Nas contact details)')\n",
    "\n",
    "\n",
    "axes[1].hist(lens_0, color='red', alpha=0.7)\n",
    "axes[1].set_title('contact details == 0(No contact details)')\n",
    "\n",
    "\n",
    "plt.tight_layout()\n",
    "\n",
    "plt.show()"
   ]
  },
  {
   "cell_type": "markdown",
   "metadata": {},
   "source": [
    "Бачимо що тексти розподіляються за довжиною приблизно однаково всередині класів в обох випадках"
   ]
  },
  {
   "cell_type": "markdown",
   "metadata": {},
   "source": [
    "Подивимось як виглядають дані які можна вважати прийнятними та не прийнятними"
   ]
  },
  {
   "cell_type": "code",
   "execution_count": 98,
   "metadata": {},
   "outputs": [
    {
     "data": {
      "text/html": [
       "<div>\n",
       "<style scoped>\n",
       "    .dataframe tbody tr th:only-of-type {\n",
       "        vertical-align: middle;\n",
       "    }\n",
       "\n",
       "    .dataframe tbody tr th {\n",
       "        vertical-align: top;\n",
       "    }\n",
       "\n",
       "    .dataframe thead th {\n",
       "        text-align: right;\n",
       "    }\n",
       "</style>\n",
       "<table border=\"1\" class=\"dataframe\">\n",
       "  <thead>\n",
       "    <tr style=\"text-align: right;\">\n",
       "      <th></th>\n",
       "      <th>about_me</th>\n",
       "      <th>label</th>\n",
       "      <th>contact details</th>\n",
       "    </tr>\n",
       "  </thead>\n",
       "  <tbody>\n",
       "    <tr>\n",
       "      <th>0</th>\n",
       "      <td>A︇︆︈l︇︆︈l︇︆︈ ︇︆︈m︇︆︈y︇︆︈ ︇︆︈s︇︆︈e︇︆︈x︇︆︈y︇︆︈ ︇︆︈p︇︆︈h︇︆︈o︇︆︈t︇︆︈o︇︆︈s︇︆︈ ︇︆︈a︇︆︈n︇︆︈d︇︆︈ ︇︆︈v︇︆︈i︇︆︈d︇︆︈e︇︆︈o︇︆︈s︇︆︈ ︇︆︈</td>\n",
       "      <td>1</td>\n",
       "      <td>1</td>\n",
       "    </tr>\n",
       "    <tr>\n",
       "      <th>1</th>\n",
       "      <td>solo busco que me traten como una princesa y me vuelvan más caprichosa de lo que soy, busco un papi bueno que me cumpla los caprichos 💋.rn mi Instagram lun4aa.22</td>\n",
       "      <td>1</td>\n",
       "      <td>1</td>\n",
       "    </tr>\n",
       "    <tr>\n",
       "      <th>2</th>\n",
       "      <td>buenas tardes yo busco conocer personas yo quiero alguien que me entienda y queme allude en los económico porque soy una persona muy pobre pero tampoco soy interesada no me gusta pedirle a nadie y tampoco Nome gusta mentirle Ami pareja</td>\n",
       "      <td>1</td>\n",
       "      <td>0</td>\n",
       "    </tr>\n",
       "    <tr>\n",
       "      <th>3</th>\n",
       "      <td>Tex бO78OѲ4らч8</td>\n",
       "      <td>1</td>\n",
       "      <td>1</td>\n",
       "    </tr>\n",
       "    <tr>\n",
       "      <th>4</th>\n",
       "      <td>soy madre soltera tengo un hijo de 13 años, soy auxiliar de enfermería, hogareña, romántica, fiel, honesta, busco amistad sincera y transparente inicialmente me gustaría encontrar una persona que me ayude económicamente y si nos entendemos, me gustaría tener una relación seria</td>\n",
       "      <td>1</td>\n",
       "      <td>0</td>\n",
       "    </tr>\n",
       "    <tr>\n",
       "      <th>5</th>\n",
       "      <td>Мне 16 если хочешь познакомиться пиши мне в Инстаграм _apathy_._</td>\n",
       "      <td>1</td>\n",
       "      <td>1</td>\n",
       "    </tr>\n",
       "    <tr>\n",
       "      <th>6</th>\n",
       "      <td>bin für ein Sextreffen zu haben, wenn du Interesse hast und zeig mein Video</td>\n",
       "      <td>1</td>\n",
       "      <td>0</td>\n",
       "    </tr>\n",
       "    <tr>\n",
       "      <th>7</th>\n",
       "      <td>me gustan los hombre mayores y si es posible que me ayude economicamente estoy dispuesta a todo</td>\n",
       "      <td>1</td>\n",
       "      <td>0</td>\n",
       "    </tr>\n",
       "    <tr>\n",
       "      <th>8</th>\n",
       "      <td>Ꮥር.emilyqed</td>\n",
       "      <td>1</td>\n",
       "      <td>1</td>\n",
       "    </tr>\n",
       "    <tr>\n",
       "      <th>9</th>\n",
       "      <td>люблю музику і малювати пхпх, можливо не виглядаю на свій вік. Шукаю хлопця який буде забезпечувати як мінімум💕</td>\n",
       "      <td>1</td>\n",
       "      <td>0</td>\n",
       "    </tr>\n",
       "  </tbody>\n",
       "</table>\n",
       "</div>"
      ],
      "text/plain": [
       "                                                                                                                                                                                                                                                                                about_me  \\\n",
       "0                                                                                                                                                               A︇︆︈l︇︆︈l︇︆︈ ︇︆︈m︇︆︈y︇︆︈ ︇︆︈s︇︆︈e︇︆︈x︇︆︈y︇︆︈ ︇︆︈p︇︆︈h︇︆︈o︇︆︈t︇︆︈o︇︆︈s︇︆︈ ︇︆︈a︇︆︈n︇︆︈d︇︆︈ ︇︆︈v︇︆︈i︇︆︈d︇︆︈e︇︆︈o︇︆︈s︇︆︈ ︇︆︈   \n",
       "1                                                                                                                      solo busco que me traten como una princesa y me vuelvan más caprichosa de lo que soy, busco un papi bueno que me cumpla los caprichos 💋.rn mi Instagram lun4aa.22   \n",
       "2                                            buenas tardes yo busco conocer personas yo quiero alguien que me entienda y queme allude en los económico porque soy una persona muy pobre pero tampoco soy interesada no me gusta pedirle a nadie y tampoco Nome gusta mentirle Ami pareja   \n",
       "3                                                                                                                                                                                                                                                                         Tex бO78OѲ4らч8   \n",
       "4  soy madre soltera tengo un hijo de 13 años, soy auxiliar de enfermería, hogareña, romántica, fiel, honesta, busco amistad sincera y transparente inicialmente me gustaría encontrar una persona que me ayude económicamente y si nos entendemos, me gustaría tener una relación seria   \n",
       "5                                                                                                                                                                                                                       Мне 16 если хочешь познакомиться пиши мне в Инстаграм _apathy_._   \n",
       "6                                                                                                                                                                                                            bin für ein Sextreffen zu haben, wenn du Interesse hast und zeig mein Video   \n",
       "7                                                                                                                                                                                        me gustan los hombre mayores y si es posible que me ayude economicamente estoy dispuesta a todo   \n",
       "8                                                                                                                                                                                                                                                                            Ꮥር.emilyqed   \n",
       "9                                                                                                                                                                        люблю музику і малювати пхпх, можливо не виглядаю на свій вік. Шукаю хлопця який буде забезпечувати як мінімум💕   \n",
       "\n",
       "   label  contact details  \n",
       "0      1                1  \n",
       "1      1                1  \n",
       "2      1                0  \n",
       "3      1                1  \n",
       "4      1                0  \n",
       "5      1                1  \n",
       "6      1                0  \n",
       "7      1                0  \n",
       "8      1                1  \n",
       "9      1                0  "
      ]
     },
     "execution_count": 98,
     "metadata": {},
     "output_type": "execute_result"
    }
   ],
   "source": [
    "# scam\n",
    "df[df.label == 1].head(10)\n"
   ]
  },
  {
   "cell_type": "code",
   "execution_count": 99,
   "metadata": {},
   "outputs": [
    {
     "data": {
      "text/html": [
       "<div>\n",
       "<style scoped>\n",
       "    .dataframe tbody tr th:only-of-type {\n",
       "        vertical-align: middle;\n",
       "    }\n",
       "\n",
       "    .dataframe tbody tr th {\n",
       "        vertical-align: top;\n",
       "    }\n",
       "\n",
       "    .dataframe thead th {\n",
       "        text-align: right;\n",
       "    }\n",
       "</style>\n",
       "<table border=\"1\" class=\"dataframe\">\n",
       "  <thead>\n",
       "    <tr style=\"text-align: right;\">\n",
       "      <th></th>\n",
       "      <th>about_me</th>\n",
       "      <th>label</th>\n",
       "      <th>contact details</th>\n",
       "    </tr>\n",
       "  </thead>\n",
       "  <tbody>\n",
       "    <tr>\n",
       "      <th>40</th>\n",
       "      <td>Люблю спілкуватись, багато сміятись. Проста, відкрита. Хоббі волейбол, музика. Люблю посидіти в тишині...свій простір. Черпаю сили на природі)</td>\n",
       "      <td>0</td>\n",
       "      <td>0</td>\n",
       "    </tr>\n",
       "    <tr>\n",
       "      <th>41</th>\n",
       "      <td>Живу в Алматы. 🇰🇿 Мужчины рада видеть вас счастливыми, добрыми, мужественными, уважающими другое мнение! Прошу писать словами, а не стикерами😅</td>\n",
       "      <td>0</td>\n",
       "      <td>0</td>\n",
       "    </tr>\n",
       "    <tr>\n",
       "      <th>44</th>\n",
       "      <td>busco relación de seria</td>\n",
       "      <td>0</td>\n",
       "      <td>0</td>\n",
       "    </tr>\n",
       "    <tr>\n",
       "      <th>45</th>\n",
       "      <td>amante ala música salsa y ala coxinar.</td>\n",
       "      <td>0</td>\n",
       "      <td>0</td>\n",
       "    </tr>\n",
       "    <tr>\n",
       "      <th>46</th>\n",
       "      <td>Hay I'm a professional in basketball trying to find a real man to be on my side.</td>\n",
       "      <td>0</td>\n",
       "      <td>0</td>\n",
       "    </tr>\n",
       "    <tr>\n",
       "      <th>47</th>\n",
       "      <td>just looking to have fun with some cool people</td>\n",
       "      <td>0</td>\n",
       "      <td>0</td>\n",
       "    </tr>\n",
       "    <tr>\n",
       "      <th>48</th>\n",
       "      <td>Soy una mujer que sabe respetar, con un buen sentido del humor, súper familiar, muy cariñosa y gentil, me gusta cocinar para las personas que amo, amante del orden.rnQuiero encontrar ese ser amado, ese compañero de vida para formar una linda familia.</td>\n",
       "      <td>0</td>\n",
       "      <td>0</td>\n",
       "    </tr>\n",
       "    <tr>\n",
       "      <th>49</th>\n",
       "      <td>Lo más importante en la vida es la honestidad, por lo tanto soy una mujer sincera en todo momento.rnAmo la paz y no me gustan los conflictos. rnLo más valioso en mi vida: mis hijos.</td>\n",
       "      <td>0</td>\n",
       "      <td>0</td>\n",
       "    </tr>\n",
       "    <tr>\n",
       "      <th>50</th>\n",
       "      <td>Olá, sou uma pessoa que gosto de coisas simple, de gente simples,lugares aconchegante e comidas simples ,sei me portar em lugares sofisticados ,mas prefiro a simplicidade,gosto d acampar,um bom vinho,admirar as estrelas o sol a lua, não sou hip,não fumo,não bebo de vez em quando um vinho,mas uma boa conversa é demais,sei respeitar os amigos e guardo todos no coração,amo exercício físico,pilates, amo viajar,não suporto cigarro ,se fumar escove os dentes🤣e por aí vai</td>\n",
       "      <td>0</td>\n",
       "      <td>0</td>\n",
       "    </tr>\n",
       "    <tr>\n",
       "      <th>51</th>\n",
       "      <td>I'm a loving n caring person who enjoys cooking n loves going to church ...I'm full of life n happiness..I don't have a child yet n I blve god is going to bless me once I've found my soulmate...</td>\n",
       "      <td>0</td>\n",
       "      <td>0</td>\n",
       "    </tr>\n",
       "  </tbody>\n",
       "</table>\n",
       "</div>"
      ],
      "text/plain": [
       "                                                                                                                                                                                                                                                                                                                                                                                                                                                                                 about_me  \\\n",
       "40                                                                                                                                                                                                                                                                                                                                         Люблю спілкуватись, багато сміятись. Проста, відкрита. Хоббі волейбол, музика. Люблю посидіти в тишині...свій простір. Черпаю сили на природі)   \n",
       "41                                                                                                                                                                                                                                                                                                                                         Живу в Алматы. 🇰🇿 Мужчины рада видеть вас счастливыми, добрыми, мужественными, уважающими другое мнение! Прошу писать словами, а не стикерами😅   \n",
       "44                                                                                                                                                                                                                                                                                                                                                                                                                                                                busco relación de seria   \n",
       "45                                                                                                                                                                                                                                                                                                                                                                                                                                                 amante ala música salsa y ala coxinar.   \n",
       "46                                                                                                                                                                                                                                                                                                                                                                                                       Hay I'm a professional in basketball trying to find a real man to be on my side.   \n",
       "47                                                                                                                                                                                                                                                                                                                                                                                                                                         just looking to have fun with some cool people   \n",
       "48                                                                                                                                                                                                                             Soy una mujer que sabe respetar, con un buen sentido del humor, súper familiar, muy cariñosa y gentil, me gusta cocinar para las personas que amo, amante del orden.rnQuiero encontrar ese ser amado, ese compañero de vida para formar una linda familia.   \n",
       "49                                                                                                                                                                                                                                                                                                  Lo más importante en la vida es la honestidad, por lo tanto soy una mujer sincera en todo momento.rnAmo la paz y no me gustan los conflictos. rnLo más valioso en mi vida: mis hijos.   \n",
       "50  Olá, sou uma pessoa que gosto de coisas simple, de gente simples,lugares aconchegante e comidas simples ,sei me portar em lugares sofisticados ,mas prefiro a simplicidade,gosto d acampar,um bom vinho,admirar as estrelas o sol a lua, não sou hip,não fumo,não bebo de vez em quando um vinho,mas uma boa conversa é demais,sei respeitar os amigos e guardo todos no coração,amo exercício físico,pilates, amo viajar,não suporto cigarro ,se fumar escove os dentes🤣e por aí vai   \n",
       "51                                                                                                                                                                                                                                                                                     I'm a loving n caring person who enjoys cooking n loves going to church ...I'm full of life n happiness..I don't have a child yet n I blve god is going to bless me once I've found my soulmate...   \n",
       "\n",
       "    label  contact details  \n",
       "40      0                0  \n",
       "41      0                0  \n",
       "44      0                0  \n",
       "45      0                0  \n",
       "46      0                0  \n",
       "47      0                0  \n",
       "48      0                0  \n",
       "49      0                0  \n",
       "50      0                0  \n",
       "51      0                0  "
      ]
     },
     "execution_count": 99,
     "metadata": {},
     "output_type": "execute_result"
    }
   ],
   "source": [
    "# not scam\n",
    "df[df.label == 0].head(10)\n"
   ]
  },
  {
   "cell_type": "markdown",
   "metadata": {},
   "source": [
    "Тепер подивимось на дані що містять контакту інформацію"
   ]
  },
  {
   "cell_type": "code",
   "execution_count": 100,
   "metadata": {},
   "outputs": [
    {
     "data": {
      "text/html": [
       "<div>\n",
       "<style scoped>\n",
       "    .dataframe tbody tr th:only-of-type {\n",
       "        vertical-align: middle;\n",
       "    }\n",
       "\n",
       "    .dataframe tbody tr th {\n",
       "        vertical-align: top;\n",
       "    }\n",
       "\n",
       "    .dataframe thead th {\n",
       "        text-align: right;\n",
       "    }\n",
       "</style>\n",
       "<table border=\"1\" class=\"dataframe\">\n",
       "  <thead>\n",
       "    <tr style=\"text-align: right;\">\n",
       "      <th></th>\n",
       "      <th>about_me</th>\n",
       "      <th>label</th>\n",
       "      <th>contact details</th>\n",
       "    </tr>\n",
       "  </thead>\n",
       "  <tbody>\n",
       "    <tr>\n",
       "      <th>0</th>\n",
       "      <td>A︇︆︈l︇︆︈l︇︆︈ ︇︆︈m︇︆︈y︇︆︈ ︇︆︈s︇︆︈e︇︆︈x︇︆︈y︇︆︈ ︇︆︈p︇︆︈h︇︆︈o︇︆︈t︇︆︈o︇︆︈s︇︆︈ ︇︆︈a︇︆︈n︇︆︈d︇︆︈ ︇︆︈v︇︆︈i︇︆︈d︇︆︈e︇︆︈o︇︆︈s︇︆︈ ︇︆︈</td>\n",
       "      <td>1</td>\n",
       "      <td>1</td>\n",
       "    </tr>\n",
       "    <tr>\n",
       "      <th>1</th>\n",
       "      <td>solo busco que me traten como una princesa y me vuelvan más caprichosa de lo que soy, busco un papi bueno que me cumpla los caprichos 💋.rn mi Instagram lun4aa.22</td>\n",
       "      <td>1</td>\n",
       "      <td>1</td>\n",
       "    </tr>\n",
       "    <tr>\n",
       "      <th>3</th>\n",
       "      <td>Tex бO78OѲ4らч8</td>\n",
       "      <td>1</td>\n",
       "      <td>1</td>\n",
       "    </tr>\n",
       "    <tr>\n",
       "      <th>5</th>\n",
       "      <td>Мне 16 если хочешь познакомиться пиши мне в Инстаграм _apathy_._</td>\n",
       "      <td>1</td>\n",
       "      <td>1</td>\n",
       "    </tr>\n",
       "    <tr>\n",
       "      <th>8</th>\n",
       "      <td>Ꮥር.emilyqed</td>\n",
       "      <td>1</td>\n",
       "      <td>1</td>\n",
       "    </tr>\n",
       "    <tr>\n",
       "      <th>10</th>\n",
       "      <td>amo a mi familia, mis amigas y el amor sincero. ( ¹¹⁵⁷⁴⁶³¹²⁷ )</td>\n",
       "      <td>1</td>\n",
       "      <td>1</td>\n",
       "    </tr>\n",
       "    <tr>\n",
       "      <th>11</th>\n",
       "      <td>💋💋💋I am Angelina by name ... I'm new to this this online things and this is the first time I'm looking for a Life partner online. I might not be available to reply to your message cos am not a full paid member, so if you are interested and care to communicate, Just Message On My E m a i l Sarahhicks 2 0 1 0 1 at gee mail dot cum I’m real and serious about this ...Am online now..Thank You. ?</td>\n",
       "      <td>1</td>\n",
       "      <td>1</td>\n",
       "    </tr>\n",
       "    <tr>\n",
       "      <th>12</th>\n",
       "      <td>Soy muy divertida , sales only🍑rnC0ntenido $</td>\n",
       "      <td>1</td>\n",
       "      <td>1</td>\n",
       "    </tr>\n",
       "    <tr>\n",
       "      <th>13</th>\n",
       "      <td>Ig frankimeyyrnalguien que me consienta</td>\n",
       "      <td>1</td>\n",
       "      <td>1</td>\n",
       "    </tr>\n",
       "    <tr>\n",
       "      <th>14</th>\n",
       "      <td>M︈︇︉y︈︇︉ ︈︇︉r︈︇︉e︈︇︉a︈︇︉l︈︇︉ ︈︇︉s︈︇︉e︈︇︉x︈︇︉y︈︇︉ ︈︇︉p︈︇︉i︈︇︉c︈︇︉s︈︇︉ ︈︇︉h︈︇︉e︈︇︉r︈︇︉e︈︇︉ ︈︇︉-︈︇︉ ︈︇︉w︈︇︉w︈︇︉w︈︇︉.︈︇︉s︈︇︉a︈︇︉v︈︇︉m︈︇︉.︈︇︉c︈︇︉l︈︇︉u︈︇︉b︈︇︉</td>\n",
       "      <td>1</td>\n",
       "      <td>1</td>\n",
       "    </tr>\n",
       "  </tbody>\n",
       "</table>\n",
       "</div>"
      ],
      "text/plain": [
       "                                                                                                                                                                                                                                                                                                                                                                                                     about_me  \\\n",
       "0                                                                                                                                                                                                                                                                                    A︇︆︈l︇︆︈l︇︆︈ ︇︆︈m︇︆︈y︇︆︈ ︇︆︈s︇︆︈e︇︆︈x︇︆︈y︇︆︈ ︇︆︈p︇︆︈h︇︆︈o︇︆︈t︇︆︈o︇︆︈s︇︆︈ ︇︆︈a︇︆︈n︇︆︈d︇︆︈ ︇︆︈v︇︆︈i︇︆︈d︇︆︈e︇︆︈o︇︆︈s︇︆︈ ︇︆︈   \n",
       "1                                                                                                                                                                                                                                           solo busco que me traten como una princesa y me vuelvan más caprichosa de lo que soy, busco un papi bueno que me cumpla los caprichos 💋.rn mi Instagram lun4aa.22   \n",
       "3                                                                                                                                                                                                                                                                                                                                                                                              Tex бO78OѲ4らч8   \n",
       "5                                                                                                                                                                                                                                                                                                                                            Мне 16 если хочешь познакомиться пиши мне в Инстаграм _apathy_._   \n",
       "8                                                                                                                                                                                                                                                                                                                                                                                                 Ꮥር.emilyqed   \n",
       "10                                                                                                                                                                                                                                                                                                                                             amo a mi familia, mis amigas y el amor sincero. ( ¹¹⁵⁷⁴⁶³¹²⁷ )   \n",
       "11  💋💋💋I am Angelina by name ... I'm new to this this online things and this is the first time I'm looking for a Life partner online. I might not be available to reply to your message cos am not a full paid member, so if you are interested and care to communicate, Just Message On My E m a i l Sarahhicks 2 0 1 0 1 at gee mail dot cum I’m real and serious about this ...Am online now..Thank You. ?   \n",
       "12                                                                                                                                                                                                                                                                                                                                                               Soy muy divertida , sales only🍑rnC0ntenido $   \n",
       "13                                                                                                                                                                                                                                                                                                                                                                    Ig frankimeyyrnalguien que me consienta   \n",
       "14                                                                                                                                                                                                                                                   M︈︇︉y︈︇︉ ︈︇︉r︈︇︉e︈︇︉a︈︇︉l︈︇︉ ︈︇︉s︈︇︉e︈︇︉x︈︇︉y︈︇︉ ︈︇︉p︈︇︉i︈︇︉c︈︇︉s︈︇︉ ︈︇︉h︈︇︉e︈︇︉r︈︇︉e︈︇︉ ︈︇︉-︈︇︉ ︈︇︉w︈︇︉w︈︇︉w︈︇︉.︈︇︉s︈︇︉a︈︇︉v︈︇︉m︈︇︉.︈︇︉c︈︇︉l︈︇︉u︈︇︉b︈︇︉   \n",
       "\n",
       "    label  contact details  \n",
       "0       1                1  \n",
       "1       1                1  \n",
       "3       1                1  \n",
       "5       1                1  \n",
       "8       1                1  \n",
       "10      1                1  \n",
       "11      1                1  \n",
       "12      1                1  \n",
       "13      1                1  \n",
       "14      1                1  "
      ]
     },
     "execution_count": 100,
     "metadata": {},
     "output_type": "execute_result"
    }
   ],
   "source": [
    "# contact details\n",
    "df[df['contact details'] == 1].head(10)\n"
   ]
  },
  {
   "cell_type": "markdown",
   "metadata": {},
   "source": [
    "### Підготовка даних"
   ]
  },
  {
   "cell_type": "markdown",
   "metadata": {},
   "source": [
    "Видалимо з тексту усі зайві символи, такі як емодзі, нестандартні знаки за допомогою герулрниз виразів"
   ]
  },
  {
   "cell_type": "code",
   "execution_count": 101,
   "metadata": {},
   "outputs": [
    {
     "data": {
      "text/html": [
       "<div>\n",
       "<style scoped>\n",
       "    .dataframe tbody tr th:only-of-type {\n",
       "        vertical-align: middle;\n",
       "    }\n",
       "\n",
       "    .dataframe tbody tr th {\n",
       "        vertical-align: top;\n",
       "    }\n",
       "\n",
       "    .dataframe thead th {\n",
       "        text-align: right;\n",
       "    }\n",
       "</style>\n",
       "<table border=\"1\" class=\"dataframe\">\n",
       "  <thead>\n",
       "    <tr style=\"text-align: right;\">\n",
       "      <th></th>\n",
       "      <th>about_me</th>\n",
       "      <th>label</th>\n",
       "      <th>contact details</th>\n",
       "      <th>about_me_cleaned</th>\n",
       "    </tr>\n",
       "  </thead>\n",
       "  <tbody>\n",
       "    <tr>\n",
       "      <th>0</th>\n",
       "      <td>A︇︆︈l︇︆︈l︇︆︈ ︇︆︈m︇︆︈y︇︆︈ ︇︆︈s︇︆︈e︇︆︈x︇︆︈y︇︆︈ ︇︆︈p︇︆︈h︇︆︈o︇︆︈t︇︆︈o︇︆︈s︇︆︈ ︇︆︈a︇︆︈n︇︆︈d︇︆︈ ︇︆︈v︇︆︈i︇︆︈d︇︆︈e︇︆︈o︇︆︈s︇︆︈ ︇︆︈</td>\n",
       "      <td>1</td>\n",
       "      <td>1</td>\n",
       "      <td>all my sexy photos and videos</td>\n",
       "    </tr>\n",
       "    <tr>\n",
       "      <th>1</th>\n",
       "      <td>solo busco que me traten como una princesa y me vuelvan más caprichosa de lo que soy, busco un papi bueno que me cumpla los caprichos 💋.rn mi Instagram lun4aa.22</td>\n",
       "      <td>1</td>\n",
       "      <td>1</td>\n",
       "      <td>solo busco que me traten como una princesa y me vuelvan más caprichosa de lo que soy busco un papi bueno que me cumpla los caprichos .rn mi instagram lun4aa.22</td>\n",
       "    </tr>\n",
       "    <tr>\n",
       "      <th>2</th>\n",
       "      <td>buenas tardes yo busco conocer personas yo quiero alguien que me entienda y queme allude en los económico porque soy una persona muy pobre pero tampoco soy interesada no me gusta pedirle a nadie y tampoco Nome gusta mentirle Ami pareja</td>\n",
       "      <td>1</td>\n",
       "      <td>0</td>\n",
       "      <td>buenas tardes yo busco conocer personas yo quiero alguien que me entienda y queme allude en los económico porque soy una persona muy pobre pero tampoco soy interesada no me gusta pedirle a nadie y tampoco nome gusta mentirle ami pareja</td>\n",
       "    </tr>\n",
       "    <tr>\n",
       "      <th>3</th>\n",
       "      <td>Tex бO78OѲ4らч8</td>\n",
       "      <td>1</td>\n",
       "      <td>1</td>\n",
       "      <td>tex бo78oѳ4らч8</td>\n",
       "    </tr>\n",
       "    <tr>\n",
       "      <th>4</th>\n",
       "      <td>soy madre soltera tengo un hijo de 13 años, soy auxiliar de enfermería, hogareña, romántica, fiel, honesta, busco amistad sincera y transparente inicialmente me gustaría encontrar una persona que me ayude económicamente y si nos entendemos, me gustaría tener una relación seria</td>\n",
       "      <td>1</td>\n",
       "      <td>0</td>\n",
       "      <td>soy madre soltera tengo un hijo de 13 años soy auxiliar de enfermería hogareña romántica fiel honesta busco amistad sincera y transparente inicialmente me gustaría encontrar una persona que me ayude económicamente y si nos entendemos me gustaría tener una relación seria</td>\n",
       "    </tr>\n",
       "    <tr>\n",
       "      <th>5</th>\n",
       "      <td>Мне 16 если хочешь познакомиться пиши мне в Инстаграм _apathy_._</td>\n",
       "      <td>1</td>\n",
       "      <td>1</td>\n",
       "      <td>мне 16 если хочешь познакомиться пиши мне в инстаграм _apathy_._</td>\n",
       "    </tr>\n",
       "    <tr>\n",
       "      <th>6</th>\n",
       "      <td>bin für ein Sextreffen zu haben, wenn du Interesse hast und zeig mein Video</td>\n",
       "      <td>1</td>\n",
       "      <td>0</td>\n",
       "      <td>bin für ein sextreffen zu haben wenn du interesse hast und zeig mein video</td>\n",
       "    </tr>\n",
       "    <tr>\n",
       "      <th>7</th>\n",
       "      <td>me gustan los hombre mayores y si es posible que me ayude economicamente estoy dispuesta a todo</td>\n",
       "      <td>1</td>\n",
       "      <td>0</td>\n",
       "      <td>me gustan los hombre mayores y si es posible que me ayude economicamente estoy dispuesta a todo</td>\n",
       "    </tr>\n",
       "    <tr>\n",
       "      <th>8</th>\n",
       "      <td>Ꮥር.emilyqed</td>\n",
       "      <td>1</td>\n",
       "      <td>1</td>\n",
       "      <td>ꮥር.emilyqed</td>\n",
       "    </tr>\n",
       "    <tr>\n",
       "      <th>9</th>\n",
       "      <td>люблю музику і малювати пхпх, можливо не виглядаю на свій вік. Шукаю хлопця який буде забезпечувати як мінімум💕</td>\n",
       "      <td>1</td>\n",
       "      <td>0</td>\n",
       "      <td>люблю музику і малювати пхпх можливо не виглядаю на свій вік. шукаю хлопця який буде забезпечувати як мінімум</td>\n",
       "    </tr>\n",
       "  </tbody>\n",
       "</table>\n",
       "</div>"
      ],
      "text/plain": [
       "                                                                                                                                                                                                                                                                                about_me  \\\n",
       "0                                                                                                                                                               A︇︆︈l︇︆︈l︇︆︈ ︇︆︈m︇︆︈y︇︆︈ ︇︆︈s︇︆︈e︇︆︈x︇︆︈y︇︆︈ ︇︆︈p︇︆︈h︇︆︈o︇︆︈t︇︆︈o︇︆︈s︇︆︈ ︇︆︈a︇︆︈n︇︆︈d︇︆︈ ︇︆︈v︇︆︈i︇︆︈d︇︆︈e︇︆︈o︇︆︈s︇︆︈ ︇︆︈   \n",
       "1                                                                                                                      solo busco que me traten como una princesa y me vuelvan más caprichosa de lo que soy, busco un papi bueno que me cumpla los caprichos 💋.rn mi Instagram lun4aa.22   \n",
       "2                                            buenas tardes yo busco conocer personas yo quiero alguien que me entienda y queme allude en los económico porque soy una persona muy pobre pero tampoco soy interesada no me gusta pedirle a nadie y tampoco Nome gusta mentirle Ami pareja   \n",
       "3                                                                                                                                                                                                                                                                         Tex бO78OѲ4らч8   \n",
       "4  soy madre soltera tengo un hijo de 13 años, soy auxiliar de enfermería, hogareña, romántica, fiel, honesta, busco amistad sincera y transparente inicialmente me gustaría encontrar una persona que me ayude económicamente y si nos entendemos, me gustaría tener una relación seria   \n",
       "5                                                                                                                                                                                                                       Мне 16 если хочешь познакомиться пиши мне в Инстаграм _apathy_._   \n",
       "6                                                                                                                                                                                                            bin für ein Sextreffen zu haben, wenn du Interesse hast und zeig mein Video   \n",
       "7                                                                                                                                                                                        me gustan los hombre mayores y si es posible que me ayude economicamente estoy dispuesta a todo   \n",
       "8                                                                                                                                                                                                                                                                            Ꮥር.emilyqed   \n",
       "9                                                                                                                                                                        люблю музику і малювати пхпх, можливо не виглядаю на свій вік. Шукаю хлопця який буде забезпечувати як мінімум💕   \n",
       "\n",
       "   label  contact details  \\\n",
       "0      1                1   \n",
       "1      1                1   \n",
       "2      1                0   \n",
       "3      1                1   \n",
       "4      1                0   \n",
       "5      1                1   \n",
       "6      1                0   \n",
       "7      1                0   \n",
       "8      1                1   \n",
       "9      1                0   \n",
       "\n",
       "                                                                                                                                                                                                                                                                 about_me_cleaned  \n",
       "0                                                                                                                                                                                                                                                  all my sexy photos and videos   \n",
       "1                                                                                                                 solo busco que me traten como una princesa y me vuelvan más caprichosa de lo que soy busco un papi bueno que me cumpla los caprichos .rn mi instagram lun4aa.22  \n",
       "2                                     buenas tardes yo busco conocer personas yo quiero alguien que me entienda y queme allude en los económico porque soy una persona muy pobre pero tampoco soy interesada no me gusta pedirle a nadie y tampoco nome gusta mentirle ami pareja  \n",
       "3                                                                                                                                                                                                                                                                  tex бo78oѳ4らч8  \n",
       "4  soy madre soltera tengo un hijo de 13 años soy auxiliar de enfermería hogareña romántica fiel honesta busco amistad sincera y transparente inicialmente me gustaría encontrar una persona que me ayude económicamente y si nos entendemos me gustaría tener una relación seria  \n",
       "5                                                                                                                                                                                                                мне 16 если хочешь познакомиться пиши мне в инстаграм _apathy_._  \n",
       "6                                                                                                                                                                                                      bin für ein sextreffen zu haben wenn du interesse hast und zeig mein video  \n",
       "7                                                                                                                                                                                 me gustan los hombre mayores y si es posible que me ayude economicamente estoy dispuesta a todo  \n",
       "8                                                                                                                                                                                                                                                                     ꮥር.emilyqed  \n",
       "9                                                                                                                                                                   люблю музику і малювати пхпх можливо не виглядаю на свій вік. шукаю хлопця який буде забезпечувати як мінімум  "
      ]
     },
     "execution_count": 101,
     "metadata": {},
     "output_type": "execute_result"
    }
   ],
   "source": [
    "df['about_me_cleaned'] = df['about_me'].str.replace(r'[^\\w\\s@.:/]', '', regex=True).str.lower()\n",
    "df.head(10)"
   ]
  },
  {
   "cell_type": "markdown",
   "metadata": {},
   "source": [
    "### Виявлення контактної інформації\n",
    "\n",
    "#### Регулярні вирази"
   ]
  },
  {
   "cell_type": "markdown",
   "metadata": {},
   "source": [
    "Для виявлення контактної інформації використаємо регулярні вирази, так як ці дані часто мають схожу структуру. \n",
    "\n",
    "Визначемо вирази для виявлення номерів телефонів, імейлів, посилань"
   ]
  },
  {
   "cell_type": "code",
   "execution_count": 102,
   "metadata": {},
   "outputs": [],
   "source": [
    "# визначимо вирази для пошуку контактів\n",
    "import regex as re\n",
    "\n",
    "phone_regex = r'\\b(\\+?\\d{1,3}[-.\\s]?)?(\\(?\\d{1,4}\\)?[-.\\s]?)?[\\d.\\s-]{5,}\\b'\n",
    "email_regex = r'\\b[A-Za-z0-9._%+-]+@[A-Za-z0-9.-]+\\.[A-Z|a-z]{2,}\\b'\n",
    "url_regex = r'\\b(?:http[s]?://|www\\.)[^\\s()<>]+(?:\\([\\w\\d]+\\)|([^[:punct:]\\s]|/))\\b'\n",
    "nickname_regex = r'\\B@[A-Za-z0-9._]+'\n",
    "\n",
    "# phone_regex = r'\\b\\d{10,}\\b',  \n",
    "# email_regex = r'[a-zA-Z0-9._%+-]+@[a-zA-Z0-9.-]+\\.[a-zA-Z]{2,}',  \n",
    "# url_regex = r'(http|www)\\S+'  "
   ]
  },
  {
   "cell_type": "markdown",
   "metadata": {},
   "source": [
    "Створимо новий датафрейм в який включимо колонки `'about_me_cleaned'`, `'contact details'`"
   ]
  },
  {
   "cell_type": "code",
   "execution_count": 103,
   "metadata": {},
   "outputs": [
    {
     "data": {
      "text/html": [
       "<div>\n",
       "<style scoped>\n",
       "    .dataframe tbody tr th:only-of-type {\n",
       "        vertical-align: middle;\n",
       "    }\n",
       "\n",
       "    .dataframe tbody tr th {\n",
       "        vertical-align: top;\n",
       "    }\n",
       "\n",
       "    .dataframe thead th {\n",
       "        text-align: right;\n",
       "    }\n",
       "</style>\n",
       "<table border=\"1\" class=\"dataframe\">\n",
       "  <thead>\n",
       "    <tr style=\"text-align: right;\">\n",
       "      <th></th>\n",
       "      <th>about_me_cleaned</th>\n",
       "      <th>contact details</th>\n",
       "    </tr>\n",
       "  </thead>\n",
       "  <tbody>\n",
       "    <tr>\n",
       "      <th>0</th>\n",
       "      <td>all my sexy photos and videos</td>\n",
       "      <td>1</td>\n",
       "    </tr>\n",
       "    <tr>\n",
       "      <th>1</th>\n",
       "      <td>solo busco que me traten como una princesa y me vuelvan más caprichosa de lo que soy busco un papi bueno que me cumpla los caprichos .rn mi instagram lun4aa.22</td>\n",
       "      <td>1</td>\n",
       "    </tr>\n",
       "    <tr>\n",
       "      <th>2</th>\n",
       "      <td>buenas tardes yo busco conocer personas yo quiero alguien que me entienda y queme allude en los económico porque soy una persona muy pobre pero tampoco soy interesada no me gusta pedirle a nadie y tampoco nome gusta mentirle ami pareja</td>\n",
       "      <td>0</td>\n",
       "    </tr>\n",
       "    <tr>\n",
       "      <th>3</th>\n",
       "      <td>tex бo78oѳ4らч8</td>\n",
       "      <td>1</td>\n",
       "    </tr>\n",
       "    <tr>\n",
       "      <th>4</th>\n",
       "      <td>soy madre soltera tengo un hijo de 13 años soy auxiliar de enfermería hogareña romántica fiel honesta busco amistad sincera y transparente inicialmente me gustaría encontrar una persona que me ayude económicamente y si nos entendemos me gustaría tener una relación seria</td>\n",
       "      <td>0</td>\n",
       "    </tr>\n",
       "  </tbody>\n",
       "</table>\n",
       "</div>"
      ],
      "text/plain": [
       "                                                                                                                                                                                                                                                                 about_me_cleaned  \\\n",
       "0                                                                                                                                                                                                                                                  all my sexy photos and videos    \n",
       "1                                                                                                                 solo busco que me traten como una princesa y me vuelvan más caprichosa de lo que soy busco un papi bueno que me cumpla los caprichos .rn mi instagram lun4aa.22   \n",
       "2                                     buenas tardes yo busco conocer personas yo quiero alguien que me entienda y queme allude en los económico porque soy una persona muy pobre pero tampoco soy interesada no me gusta pedirle a nadie y tampoco nome gusta mentirle ami pareja   \n",
       "3                                                                                                                                                                                                                                                                  tex бo78oѳ4らч8   \n",
       "4  soy madre soltera tengo un hijo de 13 años soy auxiliar de enfermería hogareña romántica fiel honesta busco amistad sincera y transparente inicialmente me gustaría encontrar una persona que me ayude económicamente y si nos entendemos me gustaría tener una relación seria   \n",
       "\n",
       "   contact details  \n",
       "0                1  \n",
       "1                1  \n",
       "2                0  \n",
       "3                1  \n",
       "4                0  "
      ]
     },
     "execution_count": 103,
     "metadata": {},
     "output_type": "execute_result"
    }
   ],
   "source": [
    "df_contacts = df[['about_me_cleaned', 'contact details']]\n",
    "df_contacts.head()"
   ]
  },
  {
   "cell_type": "markdown",
   "metadata": {},
   "source": [
    "Додамо колонки в яких зазначимо для кожжного виду контактної інформації чи вона є в тексті `has_phone`, `has_url`, `has_email`, `has_nickname` і колонку що вказує на наявність будь якої контактної інформації `has_contacts`\n"
   ]
  },
  {
   "cell_type": "code",
   "execution_count": 104,
   "metadata": {},
   "outputs": [],
   "source": [
    "import warnings\n",
    "\n",
    "warnings.filterwarnings(\"ignore\" )"
   ]
  },
  {
   "cell_type": "code",
   "execution_count": 105,
   "metadata": {},
   "outputs": [
    {
     "data": {
      "text/html": [
       "<div>\n",
       "<style scoped>\n",
       "    .dataframe tbody tr th:only-of-type {\n",
       "        vertical-align: middle;\n",
       "    }\n",
       "\n",
       "    .dataframe tbody tr th {\n",
       "        vertical-align: top;\n",
       "    }\n",
       "\n",
       "    .dataframe thead th {\n",
       "        text-align: right;\n",
       "    }\n",
       "</style>\n",
       "<table border=\"1\" class=\"dataframe\">\n",
       "  <thead>\n",
       "    <tr style=\"text-align: right;\">\n",
       "      <th></th>\n",
       "      <th>about_me_cleaned</th>\n",
       "      <th>contact details</th>\n",
       "      <th>has_phone</th>\n",
       "      <th>has_email</th>\n",
       "      <th>has_url</th>\n",
       "      <th>has_nickname</th>\n",
       "      <th>has_contacts</th>\n",
       "    </tr>\n",
       "  </thead>\n",
       "  <tbody>\n",
       "    <tr>\n",
       "      <th>11</th>\n",
       "      <td>i am angelina by name ... im new to this this online things and this is the first time im looking for a life partner online. i might not be available to reply to your message cos am not a full paid member so if you are interested and care to communicate just message on my e m a i l sarahhicks 2 0 1 0 1 at gee mail dot cum im real and serious about this ...am online now..thank you.</td>\n",
       "      <td>1</td>\n",
       "      <td>1</td>\n",
       "      <td>0</td>\n",
       "      <td>0</td>\n",
       "      <td>0</td>\n",
       "      <td>1</td>\n",
       "    </tr>\n",
       "    <tr>\n",
       "      <th>14</th>\n",
       "      <td>my real sexy pics here  www.savm.club</td>\n",
       "      <td>1</td>\n",
       "      <td>0</td>\n",
       "      <td>0</td>\n",
       "      <td>0</td>\n",
       "      <td>0</td>\n",
       "      <td>1</td>\n",
       "    </tr>\n",
       "    <tr>\n",
       "      <th>31</th>\n",
       "      <td>n.e.e.d__f.u.n__m.y__s.c.....n.i.g.h.t.g.i.r.l.m.e.e.t</td>\n",
       "      <td>1</td>\n",
       "      <td>1</td>\n",
       "      <td>0</td>\n",
       "      <td>0</td>\n",
       "      <td>0</td>\n",
       "      <td>1</td>\n",
       "    </tr>\n",
       "    <tr>\n",
       "      <th>32</th>\n",
       "      <td>holap soy un chico de 16 de quito sur :3 soy bajo mido 1.58</td>\n",
       "      <td>0</td>\n",
       "      <td>1</td>\n",
       "      <td>0</td>\n",
       "      <td>0</td>\n",
       "      <td>0</td>\n",
       "      <td>1</td>\n",
       "    </tr>\n",
       "    <tr>\n",
       "      <th>65</th>\n",
       "      <td>soy cubano peloncito mido 175 de estatura ojos marrones y soy mulato y muy cariñoso</td>\n",
       "      <td>0</td>\n",
       "      <td>1</td>\n",
       "      <td>0</td>\n",
       "      <td>0</td>\n",
       "      <td>0</td>\n",
       "      <td>1</td>\n",
       "    </tr>\n",
       "  </tbody>\n",
       "</table>\n",
       "</div>"
      ],
      "text/plain": [
       "                                                                                                                                                                                                                                                                                                                                                                                    about_me_cleaned  \\\n",
       "11  i am angelina by name ... im new to this this online things and this is the first time im looking for a life partner online. i might not be available to reply to your message cos am not a full paid member so if you are interested and care to communicate just message on my e m a i l sarahhicks 2 0 1 0 1 at gee mail dot cum im real and serious about this ...am online now..thank you.    \n",
       "14                                                                                                                                                                                                                                                                                                                                                             my real sexy pics here  www.savm.club   \n",
       "31                                                                                                                                                                                                                                                                                                                                            n.e.e.d__f.u.n__m.y__s.c.....n.i.g.h.t.g.i.r.l.m.e.e.t   \n",
       "32                                                                                                                                                                                                                                                                                                                                       holap soy un chico de 16 de quito sur :3 soy bajo mido 1.58   \n",
       "65                                                                                                                                                                                                                                                                                                               soy cubano peloncito mido 175 de estatura ojos marrones y soy mulato y muy cariñoso   \n",
       "\n",
       "    contact details  has_phone  has_email  has_url  has_nickname  has_contacts  \n",
       "11                1          1          0        0             0             1  \n",
       "14                1          0          0        0             0             1  \n",
       "31                1          1          0        0             0             1  \n",
       "32                0          1          0        0             0             1  \n",
       "65                0          1          0        0             0             1  "
      ]
     },
     "execution_count": 105,
     "metadata": {},
     "output_type": "execute_result"
    }
   ],
   "source": [
    "df_contacts['has_phone'] = df_contacts['about_me_cleaned'].str.contains(phone_regex, regex=True).astype(int)\n",
    "df_contacts['has_email'] = df_contacts['about_me_cleaned'].str.contains(email_regex, regex=True).astype(int)\n",
    "df_contacts['has_url'] = df_contacts['about_me_cleaned'].str.contains(url_regex, regex=True).astype(int)\n",
    "df_contacts['has_nickname'] = df_contacts['about_me_cleaned'].str.contains(nickname_regex, regex=True).astype(int)\n",
    "\n",
    "df_contacts['has_contacts'] = df['about_me_cleaned'].apply(\n",
    "    lambda x: int(\n",
    "        any([\n",
    "            bool(re.search(phone_regex, x)),\n",
    "            bool(re.search(email_regex, x)),\n",
    "            bool(re.search(url_regex, x)),\n",
    "            bool(re.search(nickname_regex, x))\n",
    "        ])\n",
    "    )\n",
    ")\n",
    "\n",
    "df_contacts[df_contacts['has_contacts'] == 1].head(5)"
   ]
  },
  {
   "cell_type": "code",
   "execution_count": 106,
   "metadata": {},
   "outputs": [
    {
     "data": {
      "text/plain": [
       "0      False\n",
       "1      False\n",
       "2       True\n",
       "3      False\n",
       "4       True\n",
       "       ...  \n",
       "195     True\n",
       "196     True\n",
       "197     True\n",
       "198     True\n",
       "199     True\n",
       "Length: 200, dtype: bool"
      ]
     },
     "execution_count": 106,
     "metadata": {},
     "output_type": "execute_result"
    }
   ],
   "source": [
    "df_contacts['has_contacts'] == df_contacts['contact details']"
   ]
  },
  {
   "cell_type": "code",
   "execution_count": 107,
   "metadata": {},
   "outputs": [
    {
     "data": {
      "text/plain": [
       "0.735"
      ]
     },
     "execution_count": 107,
     "metadata": {},
     "output_type": "execute_result"
    }
   ],
   "source": [
    "acc = (df_contacts['has_contacts'] == df_contacts['contact details']).mean()\n",
    "acc"
   ]
  },
  {
   "cell_type": "markdown",
   "metadata": {},
   "source": [
    "Бачимо що такий метод дав результат, проте залишилось багато неправильно розпізнаних текстів, тож спробуємо інші підходи"
   ]
  },
  {
   "cell_type": "markdown",
   "metadata": {},
   "source": [
    "#### Logistic Regression\n",
    "\n",
    "Спробуємо виявляти контактні данні вирішуючи задачу класифікаці. Для цього спочатку векторизуємо дані за допомогою TF-IDF\n",
    "\n",
    "##### Векторизація з TF-IDF"
   ]
  },
  {
   "cell_type": "code",
   "execution_count": 108,
   "metadata": {},
   "outputs": [],
   "source": [
    "vectorizer = TfidfVectorizer(max_features=100)\n",
    "X_text = vectorizer.fit_transform(df['about_me_cleaned']).toarray()\n",
    "\n",
    "X = pd.DataFrame(X_text)\n",
    "X.columns = X.columns.astype(str)\n",
    "y = df['contact details']"
   ]
  },
  {
   "cell_type": "markdown",
   "metadata": {},
   "source": [
    "Розділимо дані та тренувальну і валідаційну вибірки. \n",
    "\n",
    "Зазвичай варто також мати тестовий сет, проте зважаючи на дуже обмежену кількість даинх, в цьому випадку ми можемо обійтися без окремої тестової вибірки."
   ]
  },
  {
   "cell_type": "code",
   "execution_count": 109,
   "metadata": {},
   "outputs": [],
   "source": [
    "X_train, X_val, y_train, y_val = train_test_split(\n",
    "    X, y,\n",
    "    test_size=0.2,\n",
    "    random_state=42,\n",
    "    stratify=y)"
   ]
  },
  {
   "cell_type": "markdown",
   "metadata": {},
   "source": [
    "Тепер натренуємо модель логістичної регресії, і оцінимо її продуктивність на тренувальній та валідаційній вибірці, в якості основної метрики оберемо `roc_auc`"
   ]
  },
  {
   "cell_type": "code",
   "execution_count": 110,
   "metadata": {},
   "outputs": [
    {
     "data": {
      "text/html": [
       "<style>#sk-container-id-2 {\n",
       "  /* Definition of color scheme common for light and dark mode */\n",
       "  --sklearn-color-text: black;\n",
       "  --sklearn-color-line: gray;\n",
       "  /* Definition of color scheme for unfitted estimators */\n",
       "  --sklearn-color-unfitted-level-0: #fff5e6;\n",
       "  --sklearn-color-unfitted-level-1: #f6e4d2;\n",
       "  --sklearn-color-unfitted-level-2: #ffe0b3;\n",
       "  --sklearn-color-unfitted-level-3: chocolate;\n",
       "  /* Definition of color scheme for fitted estimators */\n",
       "  --sklearn-color-fitted-level-0: #f0f8ff;\n",
       "  --sklearn-color-fitted-level-1: #d4ebff;\n",
       "  --sklearn-color-fitted-level-2: #b3dbfd;\n",
       "  --sklearn-color-fitted-level-3: cornflowerblue;\n",
       "\n",
       "  /* Specific color for light theme */\n",
       "  --sklearn-color-text-on-default-background: var(--sg-text-color, var(--theme-code-foreground, var(--jp-content-font-color1, black)));\n",
       "  --sklearn-color-background: var(--sg-background-color, var(--theme-background, var(--jp-layout-color0, white)));\n",
       "  --sklearn-color-border-box: var(--sg-text-color, var(--theme-code-foreground, var(--jp-content-font-color1, black)));\n",
       "  --sklearn-color-icon: #696969;\n",
       "\n",
       "  @media (prefers-color-scheme: dark) {\n",
       "    /* Redefinition of color scheme for dark theme */\n",
       "    --sklearn-color-text-on-default-background: var(--sg-text-color, var(--theme-code-foreground, var(--jp-content-font-color1, white)));\n",
       "    --sklearn-color-background: var(--sg-background-color, var(--theme-background, var(--jp-layout-color0, #111)));\n",
       "    --sklearn-color-border-box: var(--sg-text-color, var(--theme-code-foreground, var(--jp-content-font-color1, white)));\n",
       "    --sklearn-color-icon: #878787;\n",
       "  }\n",
       "}\n",
       "\n",
       "#sk-container-id-2 {\n",
       "  color: var(--sklearn-color-text);\n",
       "}\n",
       "\n",
       "#sk-container-id-2 pre {\n",
       "  padding: 0;\n",
       "}\n",
       "\n",
       "#sk-container-id-2 input.sk-hidden--visually {\n",
       "  border: 0;\n",
       "  clip: rect(1px 1px 1px 1px);\n",
       "  clip: rect(1px, 1px, 1px, 1px);\n",
       "  height: 1px;\n",
       "  margin: -1px;\n",
       "  overflow: hidden;\n",
       "  padding: 0;\n",
       "  position: absolute;\n",
       "  width: 1px;\n",
       "}\n",
       "\n",
       "#sk-container-id-2 div.sk-dashed-wrapped {\n",
       "  border: 1px dashed var(--sklearn-color-line);\n",
       "  margin: 0 0.4em 0.5em 0.4em;\n",
       "  box-sizing: border-box;\n",
       "  padding-bottom: 0.4em;\n",
       "  background-color: var(--sklearn-color-background);\n",
       "}\n",
       "\n",
       "#sk-container-id-2 div.sk-container {\n",
       "  /* jupyter's `normalize.less` sets `[hidden] { display: none; }`\n",
       "     but bootstrap.min.css set `[hidden] { display: none !important; }`\n",
       "     so we also need the `!important` here to be able to override the\n",
       "     default hidden behavior on the sphinx rendered scikit-learn.org.\n",
       "     See: https://github.com/scikit-learn/scikit-learn/issues/21755 */\n",
       "  display: inline-block !important;\n",
       "  position: relative;\n",
       "}\n",
       "\n",
       "#sk-container-id-2 div.sk-text-repr-fallback {\n",
       "  display: none;\n",
       "}\n",
       "\n",
       "div.sk-parallel-item,\n",
       "div.sk-serial,\n",
       "div.sk-item {\n",
       "  /* draw centered vertical line to link estimators */\n",
       "  background-image: linear-gradient(var(--sklearn-color-text-on-default-background), var(--sklearn-color-text-on-default-background));\n",
       "  background-size: 2px 100%;\n",
       "  background-repeat: no-repeat;\n",
       "  background-position: center center;\n",
       "}\n",
       "\n",
       "/* Parallel-specific style estimator block */\n",
       "\n",
       "#sk-container-id-2 div.sk-parallel-item::after {\n",
       "  content: \"\";\n",
       "  width: 100%;\n",
       "  border-bottom: 2px solid var(--sklearn-color-text-on-default-background);\n",
       "  flex-grow: 1;\n",
       "}\n",
       "\n",
       "#sk-container-id-2 div.sk-parallel {\n",
       "  display: flex;\n",
       "  align-items: stretch;\n",
       "  justify-content: center;\n",
       "  background-color: var(--sklearn-color-background);\n",
       "  position: relative;\n",
       "}\n",
       "\n",
       "#sk-container-id-2 div.sk-parallel-item {\n",
       "  display: flex;\n",
       "  flex-direction: column;\n",
       "}\n",
       "\n",
       "#sk-container-id-2 div.sk-parallel-item:first-child::after {\n",
       "  align-self: flex-end;\n",
       "  width: 50%;\n",
       "}\n",
       "\n",
       "#sk-container-id-2 div.sk-parallel-item:last-child::after {\n",
       "  align-self: flex-start;\n",
       "  width: 50%;\n",
       "}\n",
       "\n",
       "#sk-container-id-2 div.sk-parallel-item:only-child::after {\n",
       "  width: 0;\n",
       "}\n",
       "\n",
       "/* Serial-specific style estimator block */\n",
       "\n",
       "#sk-container-id-2 div.sk-serial {\n",
       "  display: flex;\n",
       "  flex-direction: column;\n",
       "  align-items: center;\n",
       "  background-color: var(--sklearn-color-background);\n",
       "  padding-right: 1em;\n",
       "  padding-left: 1em;\n",
       "}\n",
       "\n",
       "\n",
       "/* Toggleable style: style used for estimator/Pipeline/ColumnTransformer box that is\n",
       "clickable and can be expanded/collapsed.\n",
       "- Pipeline and ColumnTransformer use this feature and define the default style\n",
       "- Estimators will overwrite some part of the style using the `sk-estimator` class\n",
       "*/\n",
       "\n",
       "/* Pipeline and ColumnTransformer style (default) */\n",
       "\n",
       "#sk-container-id-2 div.sk-toggleable {\n",
       "  /* Default theme specific background. It is overwritten whether we have a\n",
       "  specific estimator or a Pipeline/ColumnTransformer */\n",
       "  background-color: var(--sklearn-color-background);\n",
       "}\n",
       "\n",
       "/* Toggleable label */\n",
       "#sk-container-id-2 label.sk-toggleable__label {\n",
       "  cursor: pointer;\n",
       "  display: block;\n",
       "  width: 100%;\n",
       "  margin-bottom: 0;\n",
       "  padding: 0.5em;\n",
       "  box-sizing: border-box;\n",
       "  text-align: center;\n",
       "}\n",
       "\n",
       "#sk-container-id-2 label.sk-toggleable__label-arrow:before {\n",
       "  /* Arrow on the left of the label */\n",
       "  content: \"▸\";\n",
       "  float: left;\n",
       "  margin-right: 0.25em;\n",
       "  color: var(--sklearn-color-icon);\n",
       "}\n",
       "\n",
       "#sk-container-id-2 label.sk-toggleable__label-arrow:hover:before {\n",
       "  color: var(--sklearn-color-text);\n",
       "}\n",
       "\n",
       "/* Toggleable content - dropdown */\n",
       "\n",
       "#sk-container-id-2 div.sk-toggleable__content {\n",
       "  max-height: 0;\n",
       "  max-width: 0;\n",
       "  overflow: hidden;\n",
       "  text-align: left;\n",
       "  /* unfitted */\n",
       "  background-color: var(--sklearn-color-unfitted-level-0);\n",
       "}\n",
       "\n",
       "#sk-container-id-2 div.sk-toggleable__content.fitted {\n",
       "  /* fitted */\n",
       "  background-color: var(--sklearn-color-fitted-level-0);\n",
       "}\n",
       "\n",
       "#sk-container-id-2 div.sk-toggleable__content pre {\n",
       "  margin: 0.2em;\n",
       "  border-radius: 0.25em;\n",
       "  color: var(--sklearn-color-text);\n",
       "  /* unfitted */\n",
       "  background-color: var(--sklearn-color-unfitted-level-0);\n",
       "}\n",
       "\n",
       "#sk-container-id-2 div.sk-toggleable__content.fitted pre {\n",
       "  /* unfitted */\n",
       "  background-color: var(--sklearn-color-fitted-level-0);\n",
       "}\n",
       "\n",
       "#sk-container-id-2 input.sk-toggleable__control:checked~div.sk-toggleable__content {\n",
       "  /* Expand drop-down */\n",
       "  max-height: 200px;\n",
       "  max-width: 100%;\n",
       "  overflow: auto;\n",
       "}\n",
       "\n",
       "#sk-container-id-2 input.sk-toggleable__control:checked~label.sk-toggleable__label-arrow:before {\n",
       "  content: \"▾\";\n",
       "}\n",
       "\n",
       "/* Pipeline/ColumnTransformer-specific style */\n",
       "\n",
       "#sk-container-id-2 div.sk-label input.sk-toggleable__control:checked~label.sk-toggleable__label {\n",
       "  color: var(--sklearn-color-text);\n",
       "  background-color: var(--sklearn-color-unfitted-level-2);\n",
       "}\n",
       "\n",
       "#sk-container-id-2 div.sk-label.fitted input.sk-toggleable__control:checked~label.sk-toggleable__label {\n",
       "  background-color: var(--sklearn-color-fitted-level-2);\n",
       "}\n",
       "\n",
       "/* Estimator-specific style */\n",
       "\n",
       "/* Colorize estimator box */\n",
       "#sk-container-id-2 div.sk-estimator input.sk-toggleable__control:checked~label.sk-toggleable__label {\n",
       "  /* unfitted */\n",
       "  background-color: var(--sklearn-color-unfitted-level-2);\n",
       "}\n",
       "\n",
       "#sk-container-id-2 div.sk-estimator.fitted input.sk-toggleable__control:checked~label.sk-toggleable__label {\n",
       "  /* fitted */\n",
       "  background-color: var(--sklearn-color-fitted-level-2);\n",
       "}\n",
       "\n",
       "#sk-container-id-2 div.sk-label label.sk-toggleable__label,\n",
       "#sk-container-id-2 div.sk-label label {\n",
       "  /* The background is the default theme color */\n",
       "  color: var(--sklearn-color-text-on-default-background);\n",
       "}\n",
       "\n",
       "/* On hover, darken the color of the background */\n",
       "#sk-container-id-2 div.sk-label:hover label.sk-toggleable__label {\n",
       "  color: var(--sklearn-color-text);\n",
       "  background-color: var(--sklearn-color-unfitted-level-2);\n",
       "}\n",
       "\n",
       "/* Label box, darken color on hover, fitted */\n",
       "#sk-container-id-2 div.sk-label.fitted:hover label.sk-toggleable__label.fitted {\n",
       "  color: var(--sklearn-color-text);\n",
       "  background-color: var(--sklearn-color-fitted-level-2);\n",
       "}\n",
       "\n",
       "/* Estimator label */\n",
       "\n",
       "#sk-container-id-2 div.sk-label label {\n",
       "  font-family: monospace;\n",
       "  font-weight: bold;\n",
       "  display: inline-block;\n",
       "  line-height: 1.2em;\n",
       "}\n",
       "\n",
       "#sk-container-id-2 div.sk-label-container {\n",
       "  text-align: center;\n",
       "}\n",
       "\n",
       "/* Estimator-specific */\n",
       "#sk-container-id-2 div.sk-estimator {\n",
       "  font-family: monospace;\n",
       "  border: 1px dotted var(--sklearn-color-border-box);\n",
       "  border-radius: 0.25em;\n",
       "  box-sizing: border-box;\n",
       "  margin-bottom: 0.5em;\n",
       "  /* unfitted */\n",
       "  background-color: var(--sklearn-color-unfitted-level-0);\n",
       "}\n",
       "\n",
       "#sk-container-id-2 div.sk-estimator.fitted {\n",
       "  /* fitted */\n",
       "  background-color: var(--sklearn-color-fitted-level-0);\n",
       "}\n",
       "\n",
       "/* on hover */\n",
       "#sk-container-id-2 div.sk-estimator:hover {\n",
       "  /* unfitted */\n",
       "  background-color: var(--sklearn-color-unfitted-level-2);\n",
       "}\n",
       "\n",
       "#sk-container-id-2 div.sk-estimator.fitted:hover {\n",
       "  /* fitted */\n",
       "  background-color: var(--sklearn-color-fitted-level-2);\n",
       "}\n",
       "\n",
       "/* Specification for estimator info (e.g. \"i\" and \"?\") */\n",
       "\n",
       "/* Common style for \"i\" and \"?\" */\n",
       "\n",
       ".sk-estimator-doc-link,\n",
       "a:link.sk-estimator-doc-link,\n",
       "a:visited.sk-estimator-doc-link {\n",
       "  float: right;\n",
       "  font-size: smaller;\n",
       "  line-height: 1em;\n",
       "  font-family: monospace;\n",
       "  background-color: var(--sklearn-color-background);\n",
       "  border-radius: 1em;\n",
       "  height: 1em;\n",
       "  width: 1em;\n",
       "  text-decoration: none !important;\n",
       "  margin-left: 1ex;\n",
       "  /* unfitted */\n",
       "  border: var(--sklearn-color-unfitted-level-1) 1pt solid;\n",
       "  color: var(--sklearn-color-unfitted-level-1);\n",
       "}\n",
       "\n",
       ".sk-estimator-doc-link.fitted,\n",
       "a:link.sk-estimator-doc-link.fitted,\n",
       "a:visited.sk-estimator-doc-link.fitted {\n",
       "  /* fitted */\n",
       "  border: var(--sklearn-color-fitted-level-1) 1pt solid;\n",
       "  color: var(--sklearn-color-fitted-level-1);\n",
       "}\n",
       "\n",
       "/* On hover */\n",
       "div.sk-estimator:hover .sk-estimator-doc-link:hover,\n",
       ".sk-estimator-doc-link:hover,\n",
       "div.sk-label-container:hover .sk-estimator-doc-link:hover,\n",
       ".sk-estimator-doc-link:hover {\n",
       "  /* unfitted */\n",
       "  background-color: var(--sklearn-color-unfitted-level-3);\n",
       "  color: var(--sklearn-color-background);\n",
       "  text-decoration: none;\n",
       "}\n",
       "\n",
       "div.sk-estimator.fitted:hover .sk-estimator-doc-link.fitted:hover,\n",
       ".sk-estimator-doc-link.fitted:hover,\n",
       "div.sk-label-container:hover .sk-estimator-doc-link.fitted:hover,\n",
       ".sk-estimator-doc-link.fitted:hover {\n",
       "  /* fitted */\n",
       "  background-color: var(--sklearn-color-fitted-level-3);\n",
       "  color: var(--sklearn-color-background);\n",
       "  text-decoration: none;\n",
       "}\n",
       "\n",
       "/* Span, style for the box shown on hovering the info icon */\n",
       ".sk-estimator-doc-link span {\n",
       "  display: none;\n",
       "  z-index: 9999;\n",
       "  position: relative;\n",
       "  font-weight: normal;\n",
       "  right: .2ex;\n",
       "  padding: .5ex;\n",
       "  margin: .5ex;\n",
       "  width: min-content;\n",
       "  min-width: 20ex;\n",
       "  max-width: 50ex;\n",
       "  color: var(--sklearn-color-text);\n",
       "  box-shadow: 2pt 2pt 4pt #999;\n",
       "  /* unfitted */\n",
       "  background: var(--sklearn-color-unfitted-level-0);\n",
       "  border: .5pt solid var(--sklearn-color-unfitted-level-3);\n",
       "}\n",
       "\n",
       ".sk-estimator-doc-link.fitted span {\n",
       "  /* fitted */\n",
       "  background: var(--sklearn-color-fitted-level-0);\n",
       "  border: var(--sklearn-color-fitted-level-3);\n",
       "}\n",
       "\n",
       ".sk-estimator-doc-link:hover span {\n",
       "  display: block;\n",
       "}\n",
       "\n",
       "/* \"?\"-specific style due to the `<a>` HTML tag */\n",
       "\n",
       "#sk-container-id-2 a.estimator_doc_link {\n",
       "  float: right;\n",
       "  font-size: 1rem;\n",
       "  line-height: 1em;\n",
       "  font-family: monospace;\n",
       "  background-color: var(--sklearn-color-background);\n",
       "  border-radius: 1rem;\n",
       "  height: 1rem;\n",
       "  width: 1rem;\n",
       "  text-decoration: none;\n",
       "  /* unfitted */\n",
       "  color: var(--sklearn-color-unfitted-level-1);\n",
       "  border: var(--sklearn-color-unfitted-level-1) 1pt solid;\n",
       "}\n",
       "\n",
       "#sk-container-id-2 a.estimator_doc_link.fitted {\n",
       "  /* fitted */\n",
       "  border: var(--sklearn-color-fitted-level-1) 1pt solid;\n",
       "  color: var(--sklearn-color-fitted-level-1);\n",
       "}\n",
       "\n",
       "/* On hover */\n",
       "#sk-container-id-2 a.estimator_doc_link:hover {\n",
       "  /* unfitted */\n",
       "  background-color: var(--sklearn-color-unfitted-level-3);\n",
       "  color: var(--sklearn-color-background);\n",
       "  text-decoration: none;\n",
       "}\n",
       "\n",
       "#sk-container-id-2 a.estimator_doc_link.fitted:hover {\n",
       "  /* fitted */\n",
       "  background-color: var(--sklearn-color-fitted-level-3);\n",
       "}\n",
       "</style><div id=\"sk-container-id-2\" class=\"sk-top-container\"><div class=\"sk-text-repr-fallback\"><pre>LogisticRegression(max_iter=500, solver=&#x27;liblinear&#x27;)</pre><b>In a Jupyter environment, please rerun this cell to show the HTML representation or trust the notebook. <br />On GitHub, the HTML representation is unable to render, please try loading this page with nbviewer.org.</b></div><div class=\"sk-container\" hidden><div class=\"sk-item\"><div class=\"sk-estimator fitted sk-toggleable\"><input class=\"sk-toggleable__control sk-hidden--visually\" id=\"sk-estimator-id-2\" type=\"checkbox\" checked><label for=\"sk-estimator-id-2\" class=\"sk-toggleable__label fitted sk-toggleable__label-arrow fitted\">&nbsp;&nbsp;LogisticRegression<a class=\"sk-estimator-doc-link fitted\" rel=\"noreferrer\" target=\"_blank\" href=\"https://scikit-learn.org/1.5/modules/generated/sklearn.linear_model.LogisticRegression.html\">?<span>Documentation for LogisticRegression</span></a><span class=\"sk-estimator-doc-link fitted\">i<span>Fitted</span></span></label><div class=\"sk-toggleable__content fitted\"><pre>LogisticRegression(max_iter=500, solver=&#x27;liblinear&#x27;)</pre></div> </div></div></div></div>"
      ],
      "text/plain": [
       "LogisticRegression(max_iter=500, solver='liblinear')"
      ]
     },
     "execution_count": 110,
     "metadata": {},
     "output_type": "execute_result"
    }
   ],
   "source": [
    "log_reg = LogisticRegression(max_iter=500, solver='liblinear')\n",
    "log_reg.fit(X_train, y_train)"
   ]
  },
  {
   "cell_type": "markdown",
   "metadata": {},
   "source": [
    "Визначимо функцію для оцінки якості моделі"
   ]
  },
  {
   "cell_type": "code",
   "execution_count": 111,
   "metadata": {},
   "outputs": [],
   "source": [
    "def eval(model, X, y, name=''):\n",
    "\n",
    "    # передбачення міток\n",
    "    pred = model.predict(X)\n",
    "    # передбачення ймовірностей\n",
    "    prob = model.predict_proba(X)[:, 1]\n",
    "\n",
    "    accuracy = accuracy_score(y, pred)\n",
    "    roc_auc = roc_auc_score(y, prob)\n",
    "    cl_report= classification_report(y, pred)\n",
    "\n",
    "    print(f'{name} data\\n')\n",
    "    print(f\"acc: {accuracy}\\nnroc_auc: {roc_auc}\\n\\nclassification_report:\\n\\n{cl_report}\")"
   ]
  },
  {
   "cell_type": "code",
   "execution_count": 112,
   "metadata": {},
   "outputs": [
    {
     "name": "stdout",
     "output_type": "stream",
     "text": [
      "Train data\n",
      "\n",
      "acc: 0.7875\n",
      "nroc_auc: 0.9262295081967213\n",
      "\n",
      "classification_report:\n",
      "\n",
      "              precision    recall  f1-score   support\n",
      "\n",
      "           0       0.78      1.00      0.88       122\n",
      "           1       1.00      0.11      0.19        38\n",
      "\n",
      "    accuracy                           0.79       160\n",
      "   macro avg       0.89      0.55      0.53       160\n",
      "weighted avg       0.83      0.79      0.71       160\n",
      "\n"
     ]
    }
   ],
   "source": [
    "eval(log_reg, X_train, y_train, 'Train')"
   ]
  },
  {
   "cell_type": "code",
   "execution_count": 113,
   "metadata": {},
   "outputs": [
    {
     "name": "stdout",
     "output_type": "stream",
     "text": [
      "Validation data\n",
      "\n",
      "acc: 0.75\n",
      "nroc_auc: 0.8583333333333334\n",
      "\n",
      "classification_report:\n",
      "\n",
      "              precision    recall  f1-score   support\n",
      "\n",
      "           0       0.75      1.00      0.86        30\n",
      "           1       0.00      0.00      0.00        10\n",
      "\n",
      "    accuracy                           0.75        40\n",
      "   macro avg       0.38      0.50      0.43        40\n",
      "weighted avg       0.56      0.75      0.64        40\n",
      "\n"
     ]
    }
   ],
   "source": [
    "eval(log_reg, X_val, y_val, 'Validation')\n"
   ]
  },
  {
   "cell_type": "markdown",
   "metadata": {},
   "source": [
    "### Виявлення нейпринятих описів"
   ]
  },
  {
   "cell_type": "code",
   "execution_count": 114,
   "metadata": {},
   "outputs": [],
   "source": [
    "y = df['label']\n",
    "\n",
    "X_train, X_val, y_train, y_val = train_test_split(\n",
    "    X, y,\n",
    "    test_size=0.2,\n",
    "    random_state=42,\n",
    "    stratify=y)"
   ]
  },
  {
   "cell_type": "markdown",
   "metadata": {},
   "source": [
    "#### Logistic Regression"
   ]
  },
  {
   "cell_type": "code",
   "execution_count": 117,
   "metadata": {},
   "outputs": [
    {
     "name": "stdout",
     "output_type": "stream",
     "text": [
      "Train data\n",
      "\n",
      "acc: 0.85625\n",
      "nroc_auc: 0.930840244093256\n",
      "\n",
      "classification_report:\n",
      "\n",
      "              precision    recall  f1-score   support\n",
      "\n",
      "           0       0.84      0.89      0.87        83\n",
      "           1       0.88      0.82      0.85        77\n",
      "\n",
      "    accuracy                           0.86       160\n",
      "   macro avg       0.86      0.85      0.86       160\n",
      "weighted avg       0.86      0.86      0.86       160\n",
      "\n"
     ]
    }
   ],
   "source": [
    "log_reg = LogisticRegression(solver='liblinear')\n",
    "log_reg.fit(X_train, y_train)\n",
    "\n",
    "eval(log_reg, X_train, y_train, 'Train')"
   ]
  },
  {
   "cell_type": "code",
   "execution_count": 118,
   "metadata": {},
   "outputs": [
    {
     "name": "stdout",
     "output_type": "stream",
     "text": [
      "Validation data\n",
      "\n",
      "acc: 0.7\n",
      "nroc_auc: 0.706766917293233\n",
      "\n",
      "classification_report:\n",
      "\n",
      "              precision    recall  f1-score   support\n",
      "\n",
      "           0       0.74      0.67      0.70        21\n",
      "           1       0.67      0.74      0.70        19\n",
      "\n",
      "    accuracy                           0.70        40\n",
      "   macro avg       0.70      0.70      0.70        40\n",
      "weighted avg       0.70      0.70      0.70        40\n",
      "\n"
     ]
    }
   ],
   "source": [
    "eval(log_reg, X_val, y_val, 'Validation')"
   ]
  },
  {
   "cell_type": "markdown",
   "metadata": {},
   "source": [
    "Отримана модель дає значно кращі результати на тренувальному наборі, що свідчить про перенавчання"
   ]
  },
  {
   "cell_type": "markdown",
   "metadata": {},
   "source": [
    "#### Naive Bayes"
   ]
  },
  {
   "cell_type": "code",
   "execution_count": 119,
   "metadata": {},
   "outputs": [
    {
     "name": "stdout",
     "output_type": "stream",
     "text": [
      "Train data\n",
      "\n",
      "acc: 0.66875\n",
      "nroc_auc: 0.857142857142857\n",
      "\n",
      "classification_report:\n",
      "\n",
      "              precision    recall  f1-score   support\n",
      "\n",
      "           0       0.65      0.78      0.71        83\n",
      "           1       0.70      0.55      0.61        77\n",
      "\n",
      "    accuracy                           0.67       160\n",
      "   macro avg       0.68      0.66      0.66       160\n",
      "weighted avg       0.67      0.67      0.66       160\n",
      "\n"
     ]
    }
   ],
   "source": [
    "nb_model = MultinomialNB()\n",
    "nb_model.fit(X_train, y_train)\n",
    "\n",
    "eval(nb_model, X_train, y_train, 'Train')"
   ]
  },
  {
   "cell_type": "code",
   "execution_count": 120,
   "metadata": {},
   "outputs": [
    {
     "name": "stdout",
     "output_type": "stream",
     "text": [
      "Validation data\n",
      "\n",
      "acc: 0.7\n",
      "nroc_auc: 0.8020050125313283\n",
      "\n",
      "classification_report:\n",
      "\n",
      "              precision    recall  f1-score   support\n",
      "\n",
      "           0       0.70      0.76      0.73        21\n",
      "           1       0.71      0.63      0.67        19\n",
      "\n",
      "    accuracy                           0.70        40\n",
      "   macro avg       0.70      0.70      0.70        40\n",
      "weighted avg       0.70      0.70      0.70        40\n",
      "\n"
     ]
    }
   ],
   "source": [
    "eval(nb_model, X_val, y_val, 'Validation')\n"
   ]
  },
  {
   "cell_type": "markdown",
   "metadata": {},
   "source": [
    "Друга модель дає приблизно схожі результати на тренувальних та валідаційних даних, що свідчить про її зданість краще генералізувати"
   ]
  },
  {
   "cell_type": "markdown",
   "metadata": {},
   "source": [
    "#### Можливі підходи\n",
    "\n",
    "Простим моделям не вдалось досягти бажаних результатів, тому було вирішено спробувати інші підходи.\n",
    "\n",
    "В цьому завданні ми маємо доволі обмеженй датасет, він має невелику кількість записів різними мовами. \n",
    "Доцільно використовувати моделі, які дуже добре розуміють структуру багатьох мов і можуть виявляти нецільове використання символів, наприклад літер для того аби задати телефон.\n",
    "\n",
    "\n",
    "Ці підходи потребують більше часу на реалізацію і не є безкоштовними, тому нижче описані загальні концепції:\n",
    "\n",
    "<br>\n",
    "\n",
    "\n",
    "* **Fine-Tuning LLM**\n",
    "\n",
    "Цей підхід включає донавчання великих мовних моделей (LLM), таких як GPT-4, на специфічних даних для покращення їхньої точності в певній задачі. Модель тренується додатково на наданому наборі даних, щоб адаптувати її до конкретних вимог, наприклад, для класифікації скам-повідомлень. \n",
    "\n",
    "Реалізація цього методу є платною, тому тут загальний підхід реалізації рішення зазначенно тут: [Fine-Tuning Guide - OpenAI](https://platform.openai.com/docs/guides/fine-tuning)\n",
    "\n",
    "Далі наведено приклад формату навчальних даних:\n",
    "\n",
    "<pre>\n",
    "{\"messages\": [\n",
    "{\"role\": \"system\", \"content\": \"You are a chatbot trained to identify whether a message is a scam or not. Based on examples provided, classify the incoming message as either 'scam' or 'not scam'.\"}, \n",
    "{\"role\": \"user\", \"content\": \"люблю музику і малювати пхпх, можливо не виглядаю на свій вік. Шукаю хлопця який буде забезпечувати як мінімум💕\"}, \n",
    "{\"role\": \"assistant\", \"content\": \"Scam\"}]}\n",
    "\n",
    "{\"messages\": [\n",
    "{\"role\": \"system\", \"content\": \"You are a chatbot trained to identify whether a message is a scam or not. Based on examples provided, classify the incoming message as either 'scam' or 'not scam'.\"}, \n",
    "{\"role\": \"user\", \"content\": \"Ꮥር.emilyqed\"}, \n",
    "{\"role\": \"assistant\", \"content\": \"Scam\"}]}\n",
    "\n",
    "{\"messages\": [\n",
    "{\"role\": \"system\", \"content\": \"You are a chatbot trained to identify whether a message is a scam or not. Based on examples provided, classify the incoming message as either 'scam' or 'not scam'.\"}, \n",
    "{\"role\": \"user\", \"content\": \"Hay I'm a professional in basketball trying to find a real man to be on my side.\"}, \n",
    "{\"role\": \"assistant\", \"content\": \"Not scam\"}]}\n",
    "</pre>\n",
    "\n",
    "<br>\n",
    "\n",
    "* **LLM з Few-Shot Learning**  \n",
    "\n",
    "Цей підхід передбачає використання великих мовних моделей (LLM), таких як GPT-4, для класифікації або інших задач за допомогою кількох прикладів (few-shot). Модель отримує невелику кількість прикладів з вхідними даними та їхніми правильними мітками, і на основі цього навчається виконувати завдання для нових, невідомих даних без необхідності у великому датасеті. Приклад реалізації: [Few-Shot Examples - LangChain](https://python.langchain.com/docs/how_to/few_shot_examples/)\n",
    "\n",
    "<br>\n",
    "\n",
    "* **Multilingual Sentence Embeddings**\n",
    "\n",
    "Цей підхід включає використання ембедінгів для текстової класифікації, де замість роботи з окремими словами, створюються вектори для цілих речень. Для цього використовуються моделі, такі як Sentence Transformers, щоб отримати векторні представлення тексту. Потім на них застосовуються прості класифікаційні моделі, наприклад, логістична регресія або KNN, для виконання завдання класифікації.\n",
    "\n",
    "Цей метод є доволі ефективним і дає можливість працювати з різними мовами. Приклад реалізації: [Text Classification Using Sentence Embedding](https://medium.com/@reddyyashu20/build-text-classification-model-using-sentence-embedding-sentence-transformers-part3-a-nlp-b12d701bbd6c)\n"
   ]
  }
 ],
 "metadata": {
  "kernelspec": {
   "display_name": "base",
   "language": "python",
   "name": "python3"
  },
  "language_info": {
   "codemirror_mode": {
    "name": "ipython",
    "version": 3
   },
   "file_extension": ".py",
   "mimetype": "text/x-python",
   "name": "python",
   "nbconvert_exporter": "python",
   "pygments_lexer": "ipython3",
   "version": "3.11.7"
  }
 },
 "nbformat": 4,
 "nbformat_minor": 2
}
